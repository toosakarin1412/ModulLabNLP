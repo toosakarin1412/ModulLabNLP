{
 "cells": [
  {
   "cell_type": "markdown",
   "metadata": {},
   "source": [
    "## **Pertemuan 2**"
   ]
  },
  {
   "cell_type": "markdown",
   "metadata": {},
   "source": [
    "### **Preprocessing - part I**\n",
    "\n",
    "Pada pertemuan hari ini, kita akan mempelajari langkah-langkah dasar dalam preprocessing teks, yaitu **Case-folding**, **Stopword elimination**, **Tokenization**, dan **Stemming/Lemmatization**. \n",
    "\n",
    "Preprocessing data teks adalah proses awal yang penting dalam pengolahan teks yang bertujuan untuk membersihkan data teks dari noise dan menjadikannya lebih siap untuk diolah lebih lanjut. Salah satu alasan mengapa preprocessing data teks sangat penting adalah karena data teks sering kali tidak terstruktur dan mengandung banyak noise. Apalagi jika data teks ditambang dari media sosial. Data teks dapat berisi karakteristik yang berbeda seperti emoji, tanda baca, kata-kata yang tidak baku, dan lain sebagainya. Noise ini dapat menyebabkan kesalahan dalam analisis teks dan mempengaruhi kualitas output akhir."
   ]
  },
  {
   "cell_type": "markdown",
   "metadata": {},
   "source": [
    "Untuk keperluan tools yang bisa digunakan untuk melakukan preprocessing pada dataset, pada praktikum hari ini kita akan menggunakan library python `nltk` untuk melakukan preprocessing terhadap dataset teks. Install library `nltk` dengan sintaks dibawah ini:\n",
    "\n",
    "`pip install nltk`\n",
    "\n",
    "kemudian setelah itu, import library dengan menggunakan kode dibawah ini:"
   ]
  },
  {
   "cell_type": "code",
   "execution_count": 3,
   "metadata": {},
   "outputs": [
    {
     "name": "stdout",
     "output_type": "stream",
     "text": [
      "showing info https://raw.githubusercontent.com/nltk/nltk_data/gh-pages/index.xml\n"
     ]
    },
    {
     "data": {
      "text/plain": [
       "True"
      ]
     },
     "execution_count": 3,
     "metadata": {},
     "output_type": "execute_result"
    }
   ],
   "source": [
    "import nltk \n",
    "nltk.download()"
   ]
  },
  {
   "cell_type": "markdown",
   "metadata": {},
   "source": [
    "Teman-teman dapat terlebih dahulu mengimpor dataset."
   ]
  },
  {
   "cell_type": "code",
   "execution_count": 2,
   "metadata": {},
   "outputs": [],
   "source": [
    "import pandas as pd\n",
    "\n",
    "pd.set_option('display.max_rows', None)\n",
    "pd.set_option('display.max_columns', None)"
   ]
  },
  {
   "cell_type": "code",
   "execution_count": 19,
   "metadata": {},
   "outputs": [
    {
     "data": {
      "application/vnd.microsoft.datawrangler.viewer.v0+json": {
       "columns": [
        {
         "name": "index",
         "rawType": "int64",
         "type": "integer"
        },
        {
         "name": "sentence",
         "rawType": "object",
         "type": "string"
        }
       ],
       "conversionMethod": "pd.DataFrame",
       "ref": "e888c7d6-b4d4-4bbb-81ed-ad1e5887c8b7",
       "rows": [
        [
         "0",
         "Saya memakai Honda Jazz GK5 tahun 2014 ( pertama meluncur ) . Mobil nya bagus dan enak sesuai moto nya menyenangkan untuk dikendarai"
        ],
        [
         "1",
         "Avanza kenapa jadi boros bensin begini dah ah. Baru diisi sudah mau setengah saja ."
        ],
        [
         "2",
         "saran ku dan pengalaman ku , mending beli mobil niaga L300 atau canter . irit dan bandel ."
        ],
        [
         "3",
         "Dari segi harga juga pajero lebih mahal 30 jutaan dibanding fortuner"
        ],
        [
         "4",
         "Kalo menurut gw enak pajero si"
        ],
        [
         "5",
         "CH - R versi negara ini kurang worth it soal fitur dan kelengkapan"
        ],
        [
         "6",
         "@LinaRadj kapan-kapan coba bengkel daihatsu , mereka mau kok . Servis lebih bagus ."
        ],
        [
         "7",
         "Mending confero harga nya lebih murah daripada formo."
        ],
        [
         "8",
         "kalo soal servis mending pilih grand livina soalnya after sales service nya mudah dan cepat"
        ],
        [
         "9",
         "Lampu utama depan Grand New Veloz juga mendapatkan perubahan desain dan terkesan lebih agresif dan sedikit menonjol"
        ]
       ],
       "shape": {
        "columns": 1,
        "rows": 10
       }
      },
      "text/html": [
       "<div>\n",
       "<style scoped>\n",
       "    .dataframe tbody tr th:only-of-type {\n",
       "        vertical-align: middle;\n",
       "    }\n",
       "\n",
       "    .dataframe tbody tr th {\n",
       "        vertical-align: top;\n",
       "    }\n",
       "\n",
       "    .dataframe thead th {\n",
       "        text-align: right;\n",
       "    }\n",
       "</style>\n",
       "<table border=\"1\" class=\"dataframe\">\n",
       "  <thead>\n",
       "    <tr style=\"text-align: right;\">\n",
       "      <th></th>\n",
       "      <th>sentence</th>\n",
       "    </tr>\n",
       "  </thead>\n",
       "  <tbody>\n",
       "    <tr>\n",
       "      <th>0</th>\n",
       "      <td>Saya memakai Honda Jazz GK5 tahun 2014 ( perta...</td>\n",
       "    </tr>\n",
       "    <tr>\n",
       "      <th>1</th>\n",
       "      <td>Avanza kenapa jadi boros bensin begini dah ah....</td>\n",
       "    </tr>\n",
       "    <tr>\n",
       "      <th>2</th>\n",
       "      <td>saran ku dan pengalaman ku , mending beli mobi...</td>\n",
       "    </tr>\n",
       "    <tr>\n",
       "      <th>3</th>\n",
       "      <td>Dari segi harga juga pajero lebih mahal 30 jut...</td>\n",
       "    </tr>\n",
       "    <tr>\n",
       "      <th>4</th>\n",
       "      <td>Kalo menurut gw enak pajero si</td>\n",
       "    </tr>\n",
       "    <tr>\n",
       "      <th>5</th>\n",
       "      <td>CH - R versi negara ini kurang worth it soal f...</td>\n",
       "    </tr>\n",
       "    <tr>\n",
       "      <th>6</th>\n",
       "      <td>@LinaRadj kapan-kapan coba bengkel daihatsu , ...</td>\n",
       "    </tr>\n",
       "    <tr>\n",
       "      <th>7</th>\n",
       "      <td>Mending confero harga nya lebih murah daripada...</td>\n",
       "    </tr>\n",
       "    <tr>\n",
       "      <th>8</th>\n",
       "      <td>kalo soal servis mending pilih grand livina so...</td>\n",
       "    </tr>\n",
       "    <tr>\n",
       "      <th>9</th>\n",
       "      <td>Lampu utama depan Grand New Veloz juga mendapa...</td>\n",
       "    </tr>\n",
       "  </tbody>\n",
       "</table>\n",
       "</div>"
      ],
      "text/plain": [
       "                                            sentence\n",
       "0  Saya memakai Honda Jazz GK5 tahun 2014 ( perta...\n",
       "1  Avanza kenapa jadi boros bensin begini dah ah....\n",
       "2  saran ku dan pengalaman ku , mending beli mobi...\n",
       "3  Dari segi harga juga pajero lebih mahal 30 jut...\n",
       "4                     Kalo menurut gw enak pajero si\n",
       "5  CH - R versi negara ini kurang worth it soal f...\n",
       "6  @LinaRadj kapan-kapan coba bengkel daihatsu , ...\n",
       "7  Mending confero harga nya lebih murah daripada...\n",
       "8  kalo soal servis mending pilih grand livina so...\n",
       "9  Lampu utama depan Grand New Veloz juga mendapa..."
      ]
     },
     "execution_count": 19,
     "metadata": {},
     "output_type": "execute_result"
    }
   ],
   "source": [
    "df = pd.read_csv('dataset 2.csv')\n",
    "\n",
    "df.head(10)"
   ]
  },
  {
   "cell_type": "markdown",
   "metadata": {},
   "source": [
    "Sekarang kita akan coba implementasikan NLTK untuk text preprocessing."
   ]
  },
  {
   "cell_type": "markdown",
   "metadata": {},
   "source": [
    "#### Case-folding\n",
    "\n",
    "Case-folding adalah proses konversi seluruh teks menjadi huruf kecil untuk menghilangkan perbedaan antara huruf kapital dan huruf kecil, sehingga teks dapat dianalisis secara konsisten tanpa memperhatikan kapitalisasi."
   ]
  },
  {
   "cell_type": "markdown",
   "metadata": {},
   "source": [
    "Kita akan mengambil satu sampel tweet dari kolom 'tweet' pada dataset dan menyimpannya ke dalam variabel 'text'"
   ]
  },
  {
   "cell_type": "code",
   "execution_count": 20,
   "metadata": {},
   "outputs": [
    {
     "name": "stdout",
     "output_type": "stream",
     "text": [
      "Secara service untuk konsumen daihatsu masih lebih bagus dibanding toyota.\n"
     ]
    }
   ],
   "source": [
    "sentence = df.sample()['sentence'].values[0]\n",
    "\n",
    "print(sentence)"
   ]
  },
  {
   "cell_type": "markdown",
   "metadata": {},
   "source": [
    "Implementasinya pada python tidak perlu menggunakan library `NLTK`, cukup menggunakan fungsi `.lower()` ,"
   ]
  },
  {
   "cell_type": "code",
   "execution_count": 21,
   "metadata": {},
   "outputs": [
    {
     "name": "stdout",
     "output_type": "stream",
     "text": [
      "secara service untuk konsumen daihatsu masih lebih bagus dibanding toyota.\n"
     ]
    }
   ],
   "source": [
    "# gunakan fungsi .lower()\n",
    "lowercase_sentence = sentence.lower()\n",
    "\n",
    "print(lowercase_sentence)"
   ]
  },
  {
   "cell_type": "markdown",
   "metadata": {},
   "source": [
    "Untuk mengimplementasikan **case folding** pada seluruh baris di kolom tertentu dalam DataFrame, Teman-teman bisa menggunakan metode `.apply()` untuk mengubah teks dalam kolom menjadi huruf kecil."
   ]
  },
  {
   "cell_type": "code",
   "execution_count": 23,
   "metadata": {},
   "outputs": [
    {
     "data": {
      "application/vnd.microsoft.datawrangler.viewer.v0+json": {
       "columns": [
        {
         "name": "index",
         "rawType": "int64",
         "type": "integer"
        },
        {
         "name": "sentence",
         "rawType": "object",
         "type": "string"
        }
       ],
       "conversionMethod": "pd.DataFrame",
       "ref": "e5768a21-1d20-499a-8637-dcd0ea1dee2c",
       "rows": [
        [
         "0",
         "saya memakai honda jazz gk5 tahun 2014 ( pertama meluncur ) . mobil nya bagus dan enak sesuai moto nya menyenangkan untuk dikendarai"
        ],
        [
         "1",
         "avanza kenapa jadi boros bensin begini dah ah. baru diisi sudah mau setengah saja ."
        ],
        [
         "2",
         "saran ku dan pengalaman ku , mending beli mobil niaga l300 atau canter . irit dan bandel ."
        ],
        [
         "3",
         "dari segi harga juga pajero lebih mahal 30 jutaan dibanding fortuner"
        ],
        [
         "4",
         "kalo menurut gw enak pajero si"
        ],
        [
         "5",
         "ch - r versi negara ini kurang worth it soal fitur dan kelengkapan"
        ],
        [
         "6",
         "@linaradj kapan-kapan coba bengkel daihatsu , mereka mau kok . servis lebih bagus ."
        ],
        [
         "7",
         "mending confero harga nya lebih murah daripada formo."
        ],
        [
         "8",
         "kalo soal servis mending pilih grand livina soalnya after sales service nya mudah dan cepat"
        ],
        [
         "9",
         "lampu utama depan grand new veloz juga mendapatkan perubahan desain dan terkesan lebih agresif dan sedikit menonjol"
        ]
       ],
       "shape": {
        "columns": 1,
        "rows": 10
       }
      },
      "text/html": [
       "<div>\n",
       "<style scoped>\n",
       "    .dataframe tbody tr th:only-of-type {\n",
       "        vertical-align: middle;\n",
       "    }\n",
       "\n",
       "    .dataframe tbody tr th {\n",
       "        vertical-align: top;\n",
       "    }\n",
       "\n",
       "    .dataframe thead th {\n",
       "        text-align: right;\n",
       "    }\n",
       "</style>\n",
       "<table border=\"1\" class=\"dataframe\">\n",
       "  <thead>\n",
       "    <tr style=\"text-align: right;\">\n",
       "      <th></th>\n",
       "      <th>sentence</th>\n",
       "    </tr>\n",
       "  </thead>\n",
       "  <tbody>\n",
       "    <tr>\n",
       "      <th>0</th>\n",
       "      <td>saya memakai honda jazz gk5 tahun 2014 ( perta...</td>\n",
       "    </tr>\n",
       "    <tr>\n",
       "      <th>1</th>\n",
       "      <td>avanza kenapa jadi boros bensin begini dah ah....</td>\n",
       "    </tr>\n",
       "    <tr>\n",
       "      <th>2</th>\n",
       "      <td>saran ku dan pengalaman ku , mending beli mobi...</td>\n",
       "    </tr>\n",
       "    <tr>\n",
       "      <th>3</th>\n",
       "      <td>dari segi harga juga pajero lebih mahal 30 jut...</td>\n",
       "    </tr>\n",
       "    <tr>\n",
       "      <th>4</th>\n",
       "      <td>kalo menurut gw enak pajero si</td>\n",
       "    </tr>\n",
       "    <tr>\n",
       "      <th>5</th>\n",
       "      <td>ch - r versi negara ini kurang worth it soal f...</td>\n",
       "    </tr>\n",
       "    <tr>\n",
       "      <th>6</th>\n",
       "      <td>@linaradj kapan-kapan coba bengkel daihatsu , ...</td>\n",
       "    </tr>\n",
       "    <tr>\n",
       "      <th>7</th>\n",
       "      <td>mending confero harga nya lebih murah daripada...</td>\n",
       "    </tr>\n",
       "    <tr>\n",
       "      <th>8</th>\n",
       "      <td>kalo soal servis mending pilih grand livina so...</td>\n",
       "    </tr>\n",
       "    <tr>\n",
       "      <th>9</th>\n",
       "      <td>lampu utama depan grand new veloz juga mendapa...</td>\n",
       "    </tr>\n",
       "  </tbody>\n",
       "</table>\n",
       "</div>"
      ],
      "text/plain": [
       "                                            sentence\n",
       "0  saya memakai honda jazz gk5 tahun 2014 ( perta...\n",
       "1  avanza kenapa jadi boros bensin begini dah ah....\n",
       "2  saran ku dan pengalaman ku , mending beli mobi...\n",
       "3  dari segi harga juga pajero lebih mahal 30 jut...\n",
       "4                     kalo menurut gw enak pajero si\n",
       "5  ch - r versi negara ini kurang worth it soal f...\n",
       "6  @linaradj kapan-kapan coba bengkel daihatsu , ...\n",
       "7  mending confero harga nya lebih murah daripada...\n",
       "8  kalo soal servis mending pilih grand livina so...\n",
       "9  lampu utama depan grand new veloz juga mendapa..."
      ]
     },
     "execution_count": 23,
     "metadata": {},
     "output_type": "execute_result"
    }
   ],
   "source": [
    "# Mengubah semua teks dalam kolom 'tweet' menjadi huruf kecil\n",
    "df['sentence'] = df['sentence'].apply(lambda x: x.lower())\n",
    "\n",
    "# Menampilkan hasil setelah case folding\n",
    "df.head(10)"
   ]
  },
  {
   "cell_type": "markdown",
   "metadata": {},
   "source": [
    "Penjelasan:\n",
    "- `apply(lambda x: x.lower())` digunakan untuk menerapkan fungsi `lower()` pada setiap elemen dalam kolom `sentence`, yang mengubah semua huruf menjadi huruf kecil.\n",
    "- Setelah dijalankan, kolom `sentence` di DataFrame akan berisi teks dalam format huruf kecil."
   ]
  },
  {
   "cell_type": "markdown",
   "metadata": {},
   "source": [
    "#### Stopword elimination\n",
    "\n",
    "**Removing elimination** adalah proses menghapus kata-kata yang tidak memiliki makna penting atau sering muncul dalam teks, seperti \"dan\", \"di\", \"yang\", untuk memfokuskan analisis pada kata-kata yang lebih relevan. "
   ]
  },
  {
   "cell_type": "markdown",
   "metadata": {},
   "source": [
    "Untuk menghapus stopwords pada dataset teks, teman-teman dapat menggunakan pustaka `Sastrawi` yang menyediakan fitur untuk menghapus stopwords.\n",
    "\n",
    "Jika belum menginstal `Sastrawi`, Teman-teman perlu menginstalnya terlebih dahulu:"
   ]
  },
  {
   "cell_type": "code",
   "execution_count": null,
   "metadata": {},
   "outputs": [
    {
     "name": "stdout",
     "output_type": "stream",
     "text": [
      "Requirement already satisfied: Sastrawi in c:\\users\\alghi\\documents\\praktikum\\praktikum pemrosesan bahasa alami\\modullabnlp\\env\\lib\\site-packages (1.0.1)\n"
     ]
    },
    {
     "name": "stderr",
     "output_type": "stream",
     "text": [
      "\n",
      "[notice] A new release of pip is available: 24.3.1 -> 25.0.1\n",
      "[notice] To update, run: python.exe -m pip install --upgrade pip\n"
     ]
    }
   ],
   "source": [
    "!pip install Sastrawi\n",
    "\n",
    "# Mengimpor pustaka\n",
    "from Sastrawi.StopWordRemover.StopWordRemoverFactory import StopWordRemoverFactory"
   ]
  },
  {
   "cell_type": "markdown",
   "metadata": {},
   "source": [
    "Untuk menghapus stopwords dari satu teks, Teman-teman bisa menggunakan kode berikut:"
   ]
  },
  {
   "cell_type": "code",
   "execution_count": null,
   "metadata": {},
   "outputs": [
    {
     "data": {
      "application/vnd.microsoft.datawrangler.viewer.v0+json": {
       "columns": [
        {
         "name": "index",
         "rawType": "int64",
         "type": "integer"
        },
        {
         "name": "sentence",
         "rawType": "object",
         "type": "string"
        },
        {
         "name": "tokenized_sentence",
         "rawType": "object",
         "type": "unknown"
        }
       ],
       "conversionMethod": "pd.DataFrame",
       "ref": "a014d80c-e222-41c0-901b-355810ec95e5",
       "rows": [
        [
         "0",
         "saya memakai honda jazz gk5 tahun 2014 ( pertama meluncur ) . mobil nya bagus dan enak sesuai moto nya menyenangkan untuk dikendarai",
         "['saya', 'memakai', 'honda', 'jazz', 'gk', 'tahun', 'pertama', 'meluncur', 'mobil', 'nya', 'bagus', 'dan', 'enak', 'sesuai', 'moto', 'nya', 'menyenangkan', 'untuk', 'dikendarai']"
        ],
        [
         "1",
         "avanza kenapa jadi boros bensin begini dah ah. baru diisi sudah mau setengah saja .",
         "['avanza', 'kenapa', 'jadi', 'boros', 'bensin', 'begini', 'dah', 'ah', 'baru', 'diisi', 'sudah', 'mau', 'setengah', 'saja']"
        ],
        [
         "2",
         "saran ku dan pengalaman ku , mending beli mobil niaga l300 atau canter . irit dan bandel .",
         "['saran', 'ku', 'dan', 'pengalaman', 'ku', 'mending', 'beli', 'mobil', 'niaga', 'l', 'atau', 'canter', 'irit', 'dan', 'bandel']"
        ],
        [
         "3",
         "dari segi harga juga pajero lebih mahal 30 jutaan dibanding fortuner",
         "['dari', 'segi', 'harga', 'juga', 'pajero', 'lebih', 'mahal', 'jutaan', 'dibanding', 'fortuner']"
        ],
        [
         "4",
         "kalo menurut gw enak pajero si",
         "['kalo', 'menurut', 'gw', 'enak', 'pajero', 'si']"
        ]
       ],
       "shape": {
        "columns": 2,
        "rows": 5
       }
      },
      "text/html": [
       "<div>\n",
       "<style scoped>\n",
       "    .dataframe tbody tr th:only-of-type {\n",
       "        vertical-align: middle;\n",
       "    }\n",
       "\n",
       "    .dataframe tbody tr th {\n",
       "        vertical-align: top;\n",
       "    }\n",
       "\n",
       "    .dataframe thead th {\n",
       "        text-align: right;\n",
       "    }\n",
       "</style>\n",
       "<table border=\"1\" class=\"dataframe\">\n",
       "  <thead>\n",
       "    <tr style=\"text-align: right;\">\n",
       "      <th></th>\n",
       "      <th>sentence</th>\n",
       "      <th>tokenized_sentence</th>\n",
       "    </tr>\n",
       "  </thead>\n",
       "  <tbody>\n",
       "    <tr>\n",
       "      <th>0</th>\n",
       "      <td>saya memakai honda jazz gk5 tahun 2014 ( perta...</td>\n",
       "      <td>[saya, memakai, honda, jazz, gk, tahun, pertam...</td>\n",
       "    </tr>\n",
       "    <tr>\n",
       "      <th>1</th>\n",
       "      <td>avanza kenapa jadi boros bensin begini dah ah....</td>\n",
       "      <td>[avanza, kenapa, jadi, boros, bensin, begini, ...</td>\n",
       "    </tr>\n",
       "    <tr>\n",
       "      <th>2</th>\n",
       "      <td>saran ku dan pengalaman ku , mending beli mobi...</td>\n",
       "      <td>[saran, ku, dan, pengalaman, ku, mending, beli...</td>\n",
       "    </tr>\n",
       "    <tr>\n",
       "      <th>3</th>\n",
       "      <td>dari segi harga juga pajero lebih mahal 30 jut...</td>\n",
       "      <td>[dari, segi, harga, juga, pajero, lebih, mahal...</td>\n",
       "    </tr>\n",
       "    <tr>\n",
       "      <th>4</th>\n",
       "      <td>kalo menurut gw enak pajero si</td>\n",
       "      <td>[kalo, menurut, gw, enak, pajero, si]</td>\n",
       "    </tr>\n",
       "  </tbody>\n",
       "</table>\n",
       "</div>"
      ],
      "text/plain": [
       "                                            sentence  \\\n",
       "0  saya memakai honda jazz gk5 tahun 2014 ( perta...   \n",
       "1  avanza kenapa jadi boros bensin begini dah ah....   \n",
       "2  saran ku dan pengalaman ku , mending beli mobi...   \n",
       "3  dari segi harga juga pajero lebih mahal 30 jut...   \n",
       "4                     kalo menurut gw enak pajero si   \n",
       "\n",
       "                                  tokenized_sentence  \n",
       "0  [saya, memakai, honda, jazz, gk, tahun, pertam...  \n",
       "1  [avanza, kenapa, jadi, boros, bensin, begini, ...  \n",
       "2  [saran, ku, dan, pengalaman, ku, mending, beli...  \n",
       "3  [dari, segi, harga, juga, pajero, lebih, mahal...  \n",
       "4              [kalo, menurut, gw, enak, pajero, si]  "
      ]
     },
     "metadata": {},
     "output_type": "display_data"
    }
   ],
   "source": [
    "df.head()"
   ]
  },
  {
   "cell_type": "code",
   "execution_count": null,
   "metadata": {},
   "outputs": [
    {
     "name": "stdout",
     "output_type": "stream",
     "text": [
      "Original Text:  saya memakai honda jazz gk5 tahun 2014 ( pertama meluncur ) . mobil nya bagus dan enak sesuai moto nya menyenangkan untuk dikendarai\n",
      "After Stopword Removal:  memakai honda jazz gk5 tahun 2014 ( pertama meluncur ) . mobil nya bagus enak sesuai moto nya menyenangkan dikendarai\n"
     ]
    }
   ],
   "source": [
    "factory = StopWordRemoverFactory()\n",
    "stopword_remover = factory.create_stop_word_remover()\n",
    "\n",
    "# fungsi untuk menghapus stopwords pada teks\n",
    "def remove_stopwords(text):\n",
    "    return stopword_remover.remove(text)\n",
    "\n",
    "# kita akan mengambil satu sampel baris pada dataframe\n",
    "sentence = df.head(1)['sentence'].values[0]\n",
    "# implementasikan fungsi remove_stopwords pada sentence\n",
    "cleaned_sentence = remove_stopwords(sentence)\n",
    "\n",
    "print('Original Text: ', sentence)\n",
    "print('After Stopword Removal: ', cleaned_sentence)"
   ]
  },
  {
   "cell_type": "markdown",
   "metadata": {},
   "source": [
    "#### Tokenization\n",
    "\n",
    "Pada tahap ini, text yang telah melewati tahap **Case Folding** akan dilakukan proses pemecahan perkata menggunakan fungsi `.word_tokenize()` pada library NLTK. Selain itu pada tahap ini juga akan dilakukan proses **removing number**, **whitespace** dan **puctuation (tanda baca)**.\n",
    "\n",
    "- **Removing number**, akan menggunakan fungsi `re.sub(pattern, replace_string, string)` untuk replace angka dengan `“”` ada library `re` (regex) menggunakan pattern `\\d+` . Dimana `\\d` untuk matching digit (0–9) dan `+` sebagai quantifier untuk menemukan 1 atau lebih matching `\\d` . Sehingga penggunaanya akan seperti berikut, `re.sub(r\"\\d+\", \"\", \"H3llo\")` yang akan menghasilkan `Hllo` .\n",
    "- **Removing punctuation**, akan menggunakan fungsi `.translate()` yang akan memetakan teks kedalam character yang sesuai pada mapping table `.maketrans()`. untuk mengganti `string.punctuation` berupa `(!”#$%&\\’()*+,-./:;<=>?@[\\\\]^_``{|}~)\\` dengan \"\" .\n",
    "- **Removing whitespace**, akan menggunakan fungsi `.strip()` untuk menghapus whitespace leading dan trailing, dan menggunakan fungsi regex substraction `re.sub(pattern, replace_string, string)` dengan pattern `\\s+` untuk matching whitespace dengan quantifier matching 1 atau lebih whitespace."
   ]
  },
  {
   "cell_type": "code",
   "execution_count": 26,
   "metadata": {},
   "outputs": [],
   "source": [
    "import re\n",
    "import string "
   ]
  },
  {
   "cell_type": "markdown",
   "metadata": {},
   "source": [
    "Kita akan menggunakan variabel `lowercase_sentence` hasil dari case folding diatas"
   ]
  },
  {
   "cell_type": "code",
   "execution_count": null,
   "metadata": {},
   "outputs": [
    {
     "name": "stdout",
     "output_type": "stream",
     "text": [
      "Before Tokenize : \n",
      "\n",
      "secara service untuk konsumen daihatsu masih lebih bagus dibanding toyota\n",
      "\n",
      "\n",
      "Tokenizing Result : \n",
      "\n",
      "['secara', 'service', 'untuk', 'konsumen', 'daihatsu', 'masih', 'lebih', 'bagus', 'dibanding', 'toyota']\n"
     ]
    }
   ],
   "source": [
    "# remove number\n",
    "lowercase_sentence = re.sub(r\"\\d+\", \"\", lowercase_sentence)\n",
    "\n",
    "# remove punctuation\n",
    "lowercase_sentence = lowercase_sentence.translate(str.maketrans(\"\",\"\",string.punctuation))\n",
    "\n",
    "# remove whitespace leading & trailing\n",
    "lowercase_sentence = lowercase_sentence.strip()\n",
    "\n",
    "# remove multiple whitespace into single whitespace\n",
    "lowercase_sentence = re.sub(r'\\s+',' ',lowercase_sentence)\n",
    "\n",
    "tokens = nltk.tokenize.word_tokenize(lowercase_sentence)\n",
    "\n",
    "print('Before Tokenize : \\n') \n",
    "print(lowercase_sentence)\n",
    "\n",
    "print('\\n')\n",
    "\n",
    "print('Tokenizing Result : \\n') \n",
    "print(tokens)"
   ]
  },
  {
   "cell_type": "markdown",
   "metadata": {},
   "source": [
    "Untuk melakukan tokenisasi pada seluruh baris dalam kolom DataFrame, Anda dapat menggunakan fungsi `.apply()` untuk menerapkan tokenisasi pada setiap elemen dalam kolom yang diinginkan."
   ]
  },
  {
   "cell_type": "code",
   "execution_count": 35,
   "metadata": {},
   "outputs": [
    {
     "name": "stderr",
     "output_type": "stream",
     "text": [
      "[nltk_data] Downloading package punkt to\n",
      "[nltk_data]     C:\\Users\\alghi\\AppData\\Roaming\\nltk_data...\n",
      "[nltk_data]   Package punkt is already up-to-date!\n"
     ]
    },
    {
     "data": {
      "text/plain": [
       "True"
      ]
     },
     "execution_count": 35,
     "metadata": {},
     "output_type": "execute_result"
    }
   ],
   "source": [
    "# Pastikan Anda telah mengunduh punkt tokenizer\n",
    "nltk.download('punkt')"
   ]
  },
  {
   "cell_type": "code",
   "execution_count": 36,
   "metadata": {},
   "outputs": [
    {
     "data": {
      "application/vnd.microsoft.datawrangler.viewer.v0+json": {
       "columns": [
        {
         "name": "index",
         "rawType": "int64",
         "type": "integer"
        },
        {
         "name": "sentence",
         "rawType": "object",
         "type": "string"
        },
        {
         "name": "tokenized_sentence",
         "rawType": "object",
         "type": "unknown"
        }
       ],
       "conversionMethod": "pd.DataFrame",
       "ref": "017155a1-0733-47ba-b69b-4a7d0121d3bb",
       "rows": [
        [
         "0",
         "saya memakai honda jazz gk5 tahun 2014 ( pertama meluncur ) . mobil nya bagus dan enak sesuai moto nya menyenangkan untuk dikendarai",
         "['saya', 'memakai', 'honda', 'jazz', 'gk', 'tahun', 'pertama', 'meluncur', 'mobil', 'nya', 'bagus', 'dan', 'enak', 'sesuai', 'moto', 'nya', 'menyenangkan', 'untuk', 'dikendarai']"
        ],
        [
         "1",
         "avanza kenapa jadi boros bensin begini dah ah. baru diisi sudah mau setengah saja .",
         "['avanza', 'kenapa', 'jadi', 'boros', 'bensin', 'begini', 'dah', 'ah', 'baru', 'diisi', 'sudah', 'mau', 'setengah', 'saja']"
        ],
        [
         "2",
         "saran ku dan pengalaman ku , mending beli mobil niaga l300 atau canter . irit dan bandel .",
         "['saran', 'ku', 'dan', 'pengalaman', 'ku', 'mending', 'beli', 'mobil', 'niaga', 'l', 'atau', 'canter', 'irit', 'dan', 'bandel']"
        ],
        [
         "3",
         "dari segi harga juga pajero lebih mahal 30 jutaan dibanding fortuner",
         "['dari', 'segi', 'harga', 'juga', 'pajero', 'lebih', 'mahal', 'jutaan', 'dibanding', 'fortuner']"
        ],
        [
         "4",
         "kalo menurut gw enak pajero si",
         "['kalo', 'menurut', 'gw', 'enak', 'pajero', 'si']"
        ]
       ],
       "shape": {
        "columns": 2,
        "rows": 5
       }
      },
      "text/html": [
       "<div>\n",
       "<style scoped>\n",
       "    .dataframe tbody tr th:only-of-type {\n",
       "        vertical-align: middle;\n",
       "    }\n",
       "\n",
       "    .dataframe tbody tr th {\n",
       "        vertical-align: top;\n",
       "    }\n",
       "\n",
       "    .dataframe thead th {\n",
       "        text-align: right;\n",
       "    }\n",
       "</style>\n",
       "<table border=\"1\" class=\"dataframe\">\n",
       "  <thead>\n",
       "    <tr style=\"text-align: right;\">\n",
       "      <th></th>\n",
       "      <th>sentence</th>\n",
       "      <th>tokenized_sentence</th>\n",
       "    </tr>\n",
       "  </thead>\n",
       "  <tbody>\n",
       "    <tr>\n",
       "      <th>0</th>\n",
       "      <td>saya memakai honda jazz gk5 tahun 2014 ( perta...</td>\n",
       "      <td>[saya, memakai, honda, jazz, gk, tahun, pertam...</td>\n",
       "    </tr>\n",
       "    <tr>\n",
       "      <th>1</th>\n",
       "      <td>avanza kenapa jadi boros bensin begini dah ah....</td>\n",
       "      <td>[avanza, kenapa, jadi, boros, bensin, begini, ...</td>\n",
       "    </tr>\n",
       "    <tr>\n",
       "      <th>2</th>\n",
       "      <td>saran ku dan pengalaman ku , mending beli mobi...</td>\n",
       "      <td>[saran, ku, dan, pengalaman, ku, mending, beli...</td>\n",
       "    </tr>\n",
       "    <tr>\n",
       "      <th>3</th>\n",
       "      <td>dari segi harga juga pajero lebih mahal 30 jut...</td>\n",
       "      <td>[dari, segi, harga, juga, pajero, lebih, mahal...</td>\n",
       "    </tr>\n",
       "    <tr>\n",
       "      <th>4</th>\n",
       "      <td>kalo menurut gw enak pajero si</td>\n",
       "      <td>[kalo, menurut, gw, enak, pajero, si]</td>\n",
       "    </tr>\n",
       "  </tbody>\n",
       "</table>\n",
       "</div>"
      ],
      "text/plain": [
       "                                            sentence  \\\n",
       "0  saya memakai honda jazz gk5 tahun 2014 ( perta...   \n",
       "1  avanza kenapa jadi boros bensin begini dah ah....   \n",
       "2  saran ku dan pengalaman ku , mending beli mobi...   \n",
       "3  dari segi harga juga pajero lebih mahal 30 jut...   \n",
       "4                     kalo menurut gw enak pajero si   \n",
       "\n",
       "                                  tokenized_sentence  \n",
       "0  [saya, memakai, honda, jazz, gk, tahun, pertam...  \n",
       "1  [avanza, kenapa, jadi, boros, bensin, begini, ...  \n",
       "2  [saran, ku, dan, pengalaman, ku, mending, beli...  \n",
       "3  [dari, segi, harga, juga, pajero, lebih, mahal...  \n",
       "4              [kalo, menurut, gw, enak, pajero, si]  "
      ]
     },
     "execution_count": 36,
     "metadata": {},
     "output_type": "execute_result"
    }
   ],
   "source": [
    "import nltk\n",
    "import string\n",
    "import re\n",
    "\n",
    "# Kemas seluruh kode diatas ke dalam satu function\n",
    "def preprocess_text(text):\n",
    "    # Mengubah teks ke huruf kecil\n",
    "    text = text.lower()\n",
    "\n",
    "    # remove number\n",
    "    text = re.sub(r\"\\d+\", \"\", text)\n",
    "\n",
    "    # remove punctuation\n",
    "    text = text.translate(str.maketrans(\"\", \"\", string.punctuation))\n",
    "\n",
    "    # remove whitespace leading & trailing\n",
    "    text = text.strip()\n",
    "\n",
    "    # remove multiple whitespace into single whitespace\n",
    "    text = re.sub(r'\\s+', ' ', text)\n",
    "\n",
    "    # Tokenisasi\n",
    "    tokens = nltk.tokenize.word_tokenize(text)\n",
    "    return tokens\n",
    "\n",
    "\n",
    "# Menggunakan apply() untuk menerapkan preprocessing pada seluruh kolom 'tweet'\n",
    "df['tokenized_sentence'] = df['sentence'].apply(preprocess_text)\n",
    "\n",
    "df.head()"
   ]
  },
  {
   "cell_type": "markdown",
   "metadata": {},
   "source": [
    "Penjelasan:\n",
    "1. Fungsi `preprocess_text` berfungsi untuk melakukan langkah-langkah preprocessing, seperti mengubah teks menjadi huruf kecil, menghapus angka, tanda baca, dan whitespace yang berlebihan, kemudian melakukan tokenisasi.\n",
    "2. Fungsi ini kemudian diterapkan pada kolom `sentence` menggunakan `apply()` yang akan menghasilkan kolom baru `tokenized_sentence` yang berisi hasil tokenisasi untuk setiap baris."
   ]
  },
  {
   "cell_type": "markdown",
   "metadata": {},
   "source": [
    "Untuk menghapus stopwords pada dataset teks, teman-teman dapat menggunakan pustaka `Sastrawi` yang menyediakan fitur untuk menghapus stopwords.\n",
    "\n",
    "Jika belum menginstal `Sastrawi`, Teman-teman perlu menginstalnya terlebih dahulu:"
   ]
  },
  {
   "cell_type": "code",
   "execution_count": 38,
   "metadata": {},
   "outputs": [
    {
     "name": "stdout",
     "output_type": "stream",
     "text": [
      "Requirement already satisfied: Sastrawi in c:\\users\\alghi\\documents\\praktikum\\praktikum pemrosesan bahasa alami\\modullabnlp\\env\\lib\\site-packages (1.0.1)\n"
     ]
    },
    {
     "name": "stderr",
     "output_type": "stream",
     "text": [
      "\n",
      "[notice] A new release of pip is available: 24.3.1 -> 25.0.1\n",
      "[notice] To update, run: python.exe -m pip install --upgrade pip\n"
     ]
    }
   ],
   "source": [
    "!pip install Sastrawi\n",
    "\n",
    "# Mengimpor pustaka\n",
    "from Sastrawi.StopWordRemover.StopWordRemoverFactory import StopWordRemoverFactory"
   ]
  },
  {
   "cell_type": "markdown",
   "metadata": {},
   "source": [
    "Untuk menghapus stopwords dari satu teks, Teman-teman bisa menggunakan kode berikut:"
   ]
  },
  {
   "cell_type": "code",
   "execution_count": 41,
   "metadata": {},
   "outputs": [
    {
     "data": {
      "application/vnd.microsoft.datawrangler.viewer.v0+json": {
       "columns": [
        {
         "name": "index",
         "rawType": "int64",
         "type": "integer"
        },
        {
         "name": "sentence",
         "rawType": "object",
         "type": "string"
        },
        {
         "name": "tokenized_sentence",
         "rawType": "object",
         "type": "unknown"
        }
       ],
       "conversionMethod": "pd.DataFrame",
       "ref": "a014d80c-e222-41c0-901b-355810ec95e5",
       "rows": [
        [
         "0",
         "saya memakai honda jazz gk5 tahun 2014 ( pertama meluncur ) . mobil nya bagus dan enak sesuai moto nya menyenangkan untuk dikendarai",
         "['saya', 'memakai', 'honda', 'jazz', 'gk', 'tahun', 'pertama', 'meluncur', 'mobil', 'nya', 'bagus', 'dan', 'enak', 'sesuai', 'moto', 'nya', 'menyenangkan', 'untuk', 'dikendarai']"
        ],
        [
         "1",
         "avanza kenapa jadi boros bensin begini dah ah. baru diisi sudah mau setengah saja .",
         "['avanza', 'kenapa', 'jadi', 'boros', 'bensin', 'begini', 'dah', 'ah', 'baru', 'diisi', 'sudah', 'mau', 'setengah', 'saja']"
        ],
        [
         "2",
         "saran ku dan pengalaman ku , mending beli mobil niaga l300 atau canter . irit dan bandel .",
         "['saran', 'ku', 'dan', 'pengalaman', 'ku', 'mending', 'beli', 'mobil', 'niaga', 'l', 'atau', 'canter', 'irit', 'dan', 'bandel']"
        ],
        [
         "3",
         "dari segi harga juga pajero lebih mahal 30 jutaan dibanding fortuner",
         "['dari', 'segi', 'harga', 'juga', 'pajero', 'lebih', 'mahal', 'jutaan', 'dibanding', 'fortuner']"
        ],
        [
         "4",
         "kalo menurut gw enak pajero si",
         "['kalo', 'menurut', 'gw', 'enak', 'pajero', 'si']"
        ]
       ],
       "shape": {
        "columns": 2,
        "rows": 5
       }
      },
      "text/html": [
       "<div>\n",
       "<style scoped>\n",
       "    .dataframe tbody tr th:only-of-type {\n",
       "        vertical-align: middle;\n",
       "    }\n",
       "\n",
       "    .dataframe tbody tr th {\n",
       "        vertical-align: top;\n",
       "    }\n",
       "\n",
       "    .dataframe thead th {\n",
       "        text-align: right;\n",
       "    }\n",
       "</style>\n",
       "<table border=\"1\" class=\"dataframe\">\n",
       "  <thead>\n",
       "    <tr style=\"text-align: right;\">\n",
       "      <th></th>\n",
       "      <th>sentence</th>\n",
       "      <th>tokenized_sentence</th>\n",
       "    </tr>\n",
       "  </thead>\n",
       "  <tbody>\n",
       "    <tr>\n",
       "      <th>0</th>\n",
       "      <td>saya memakai honda jazz gk5 tahun 2014 ( perta...</td>\n",
       "      <td>[saya, memakai, honda, jazz, gk, tahun, pertam...</td>\n",
       "    </tr>\n",
       "    <tr>\n",
       "      <th>1</th>\n",
       "      <td>avanza kenapa jadi boros bensin begini dah ah....</td>\n",
       "      <td>[avanza, kenapa, jadi, boros, bensin, begini, ...</td>\n",
       "    </tr>\n",
       "    <tr>\n",
       "      <th>2</th>\n",
       "      <td>saran ku dan pengalaman ku , mending beli mobi...</td>\n",
       "      <td>[saran, ku, dan, pengalaman, ku, mending, beli...</td>\n",
       "    </tr>\n",
       "    <tr>\n",
       "      <th>3</th>\n",
       "      <td>dari segi harga juga pajero lebih mahal 30 jut...</td>\n",
       "      <td>[dari, segi, harga, juga, pajero, lebih, mahal...</td>\n",
       "    </tr>\n",
       "    <tr>\n",
       "      <th>4</th>\n",
       "      <td>kalo menurut gw enak pajero si</td>\n",
       "      <td>[kalo, menurut, gw, enak, pajero, si]</td>\n",
       "    </tr>\n",
       "  </tbody>\n",
       "</table>\n",
       "</div>"
      ],
      "text/plain": [
       "                                            sentence  \\\n",
       "0  saya memakai honda jazz gk5 tahun 2014 ( perta...   \n",
       "1  avanza kenapa jadi boros bensin begini dah ah....   \n",
       "2  saran ku dan pengalaman ku , mending beli mobi...   \n",
       "3  dari segi harga juga pajero lebih mahal 30 jut...   \n",
       "4                     kalo menurut gw enak pajero si   \n",
       "\n",
       "                                  tokenized_sentence  \n",
       "0  [saya, memakai, honda, jazz, gk, tahun, pertam...  \n",
       "1  [avanza, kenapa, jadi, boros, bensin, begini, ...  \n",
       "2  [saran, ku, dan, pengalaman, ku, mending, beli...  \n",
       "3  [dari, segi, harga, juga, pajero, lebih, mahal...  \n",
       "4              [kalo, menurut, gw, enak, pajero, si]  "
      ]
     },
     "execution_count": 41,
     "metadata": {},
     "output_type": "execute_result"
    }
   ],
   "source": [
    "df.head()"
   ]
  },
  {
   "cell_type": "code",
   "execution_count": 42,
   "metadata": {},
   "outputs": [
    {
     "name": "stdout",
     "output_type": "stream",
     "text": [
      "Original Text:  saya memakai honda jazz gk5 tahun 2014 ( pertama meluncur ) . mobil nya bagus dan enak sesuai moto nya menyenangkan untuk dikendarai\n",
      "After Stopword Removal:  memakai honda jazz gk5 tahun 2014 ( pertama meluncur ) . mobil nya bagus enak sesuai moto nya menyenangkan dikendarai\n"
     ]
    }
   ],
   "source": [
    "factory = StopWordRemoverFactory()\n",
    "stopword_remover = factory.create_stop_word_remover()\n",
    "\n",
    "# fungsi untuk menghapus stopwords pada teks\n",
    "def remove_stopwords(text):\n",
    "    return stopword_remover.remove(text)\n",
    "\n",
    "# kita akan mengambil satu sampel baris pada dataframe\n",
    "sentence = df.head(1)['sentence'].values[0]\n",
    "# implementasikan fungsi remove_stopwords pada sentence\n",
    "cleaned_sentence = remove_stopwords(sentence)\n",
    "\n",
    "print('Original Text: ', sentence)\n",
    "print('After Stopword Removal: ', cleaned_sentence)"
   ]
  },
  {
   "cell_type": "markdown",
   "metadata": {},
   "source": [
    "#### Stemming/Lemmatization\n",
    "\n",
    "**Stemming** adalah proses mengurangi kata-kata ke bentuk dasarnya dengan menghilangkan imbuhan atau afiks. Tujuannya adalah untuk mengelompokkan berbagai bentuk kata yang memiliki arti yang sama menjadi satu bentuk dasar. Sebagai contoh, kata \"berlari\" dan \"berlari-lari\" akan diproses menjadi bentuk dasar \"lari\". Dalam Bahasa Indonesia, **Sastrawi** adalah pustaka yang populer untuk melakukan stemming.\n",
    "\n",
    "**Lematisasi**, di sisi lain, adalah proses yang lebih kompleks yang mengubah kata ke bentuk dasar yang lebih bermakna secara linguistik (lemanya), dengan mempertimbangkan konteks. Lematisasi lebih mempertimbangkan aturan tata bahasa dan arti kata daripada hanya menghilangkan imbuhan. Namun, lemmatization tidak selalu didukung dengan baik untuk Bahasa Indonesia, sehingga **stemming** sering digunakan dalam pemrosesan teks Bahasa Indonesia."
   ]
  },
  {
   "cell_type": "code",
   "execution_count": 47,
   "metadata": {},
   "outputs": [
    {
     "name": "stdout",
     "output_type": "stream",
     "text": [
      "Before Stemming: ['saya', 'memakai', 'honda', 'jazz', 'gk', 'tahun', 'pertama', 'meluncur', 'mobil', 'nya', 'bagus', 'dan', 'enak', 'sesuai', 'moto', 'nya', 'menyenangkan', 'untuk', 'dikendarai']\n",
      "After Stemming: ['saya', 'pakai', 'honda', 'jazz', 'gk', 'tahun', 'pertama', 'luncur', 'mobil', 'nya', 'bagus', 'dan', 'enak', 'sesuai', 'moto', 'nya', 'senang', 'untuk', 'kendara']\n"
     ]
    }
   ],
   "source": [
    "from Sastrawi.Stemmer.StemmerFactory import StemmerFactory\n",
    "\n",
    "factory = StemmerFactory()\n",
    "stemmer = factory.create_stemmer()\n",
    "\n",
    "# Mengambil sampel pada \n",
    "tokens = df.loc[0, 'tokenized_sentence']\n",
    "\n",
    "# Melakukan stemming pada setiap token\n",
    "stemmed_tokens = [stemmer.stem(token) for token in tokens]\n",
    "\n",
    "print(\"Before Stemming:\", tokens)\n",
    "print(\"After Stemming:\", stemmed_tokens)\n"
   ]
  },
  {
   "cell_type": "code",
   "execution_count": 48,
   "metadata": {},
   "outputs": [],
   "source": [
    "# Fungsi untuk melakukan stemming pada list token\n",
    "def stemming_on_tokens(tokens):\n",
    "    return [stemmer.stem(token) for token in tokens]\n",
    "\n",
    "# Terapkan stemming pada kolom 'tokenized_sentence'\n",
    "df['stemmed_tokens'] = df['tokenized_sentence'].apply(stemming_on_tokens)"
   ]
  },
  {
   "cell_type": "code",
   "execution_count": 49,
   "metadata": {},
   "outputs": [
    {
     "data": {
      "application/vnd.microsoft.datawrangler.viewer.v0+json": {
       "columns": [
        {
         "name": "index",
         "rawType": "int64",
         "type": "integer"
        },
        {
         "name": "sentence",
         "rawType": "object",
         "type": "string"
        },
        {
         "name": "tokenized_sentence",
         "rawType": "object",
         "type": "unknown"
        },
        {
         "name": "stemmed_tokens",
         "rawType": "object",
         "type": "unknown"
        }
       ],
       "conversionMethod": "pd.DataFrame",
       "ref": "323515b5-962f-404b-8912-28ec66ae6f7b",
       "rows": [
        [
         "0",
         "saya memakai honda jazz gk5 tahun 2014 ( pertama meluncur ) . mobil nya bagus dan enak sesuai moto nya menyenangkan untuk dikendarai",
         "['saya', 'memakai', 'honda', 'jazz', 'gk', 'tahun', 'pertama', 'meluncur', 'mobil', 'nya', 'bagus', 'dan', 'enak', 'sesuai', 'moto', 'nya', 'menyenangkan', 'untuk', 'dikendarai']",
         "['saya', 'pakai', 'honda', 'jazz', 'gk', 'tahun', 'pertama', 'luncur', 'mobil', 'nya', 'bagus', 'dan', 'enak', 'sesuai', 'moto', 'nya', 'senang', 'untuk', 'kendara']"
        ],
        [
         "1",
         "avanza kenapa jadi boros bensin begini dah ah. baru diisi sudah mau setengah saja .",
         "['avanza', 'kenapa', 'jadi', 'boros', 'bensin', 'begini', 'dah', 'ah', 'baru', 'diisi', 'sudah', 'mau', 'setengah', 'saja']",
         "['avanza', 'kenapa', 'jadi', 'boros', 'bensin', 'begini', 'dah', 'ah', 'baru', 'isi', 'sudah', 'mau', 'tengah', 'saja']"
        ],
        [
         "2",
         "saran ku dan pengalaman ku , mending beli mobil niaga l300 atau canter . irit dan bandel .",
         "['saran', 'ku', 'dan', 'pengalaman', 'ku', 'mending', 'beli', 'mobil', 'niaga', 'l', 'atau', 'canter', 'irit', 'dan', 'bandel']",
         "['saran', 'ku', 'dan', 'alam', 'ku', 'mending', 'beli', 'mobil', 'niaga', 'l', 'atau', 'canter', 'irit', 'dan', 'bandel']"
        ],
        [
         "3",
         "dari segi harga juga pajero lebih mahal 30 jutaan dibanding fortuner",
         "['dari', 'segi', 'harga', 'juga', 'pajero', 'lebih', 'mahal', 'jutaan', 'dibanding', 'fortuner']",
         "['dari', 'segi', 'harga', 'juga', 'pajero', 'lebih', 'mahal', 'juta', 'banding', 'fortuner']"
        ],
        [
         "4",
         "kalo menurut gw enak pajero si",
         "['kalo', 'menurut', 'gw', 'enak', 'pajero', 'si']",
         "['kalo', 'turut', 'gw', 'enak', 'pajero', 'si']"
        ]
       ],
       "shape": {
        "columns": 3,
        "rows": 5
       }
      },
      "text/html": [
       "<div>\n",
       "<style scoped>\n",
       "    .dataframe tbody tr th:only-of-type {\n",
       "        vertical-align: middle;\n",
       "    }\n",
       "\n",
       "    .dataframe tbody tr th {\n",
       "        vertical-align: top;\n",
       "    }\n",
       "\n",
       "    .dataframe thead th {\n",
       "        text-align: right;\n",
       "    }\n",
       "</style>\n",
       "<table border=\"1\" class=\"dataframe\">\n",
       "  <thead>\n",
       "    <tr style=\"text-align: right;\">\n",
       "      <th></th>\n",
       "      <th>sentence</th>\n",
       "      <th>tokenized_sentence</th>\n",
       "      <th>stemmed_tokens</th>\n",
       "    </tr>\n",
       "  </thead>\n",
       "  <tbody>\n",
       "    <tr>\n",
       "      <th>0</th>\n",
       "      <td>saya memakai honda jazz gk5 tahun 2014 ( perta...</td>\n",
       "      <td>[saya, memakai, honda, jazz, gk, tahun, pertam...</td>\n",
       "      <td>[saya, pakai, honda, jazz, gk, tahun, pertama,...</td>\n",
       "    </tr>\n",
       "    <tr>\n",
       "      <th>1</th>\n",
       "      <td>avanza kenapa jadi boros bensin begini dah ah....</td>\n",
       "      <td>[avanza, kenapa, jadi, boros, bensin, begini, ...</td>\n",
       "      <td>[avanza, kenapa, jadi, boros, bensin, begini, ...</td>\n",
       "    </tr>\n",
       "    <tr>\n",
       "      <th>2</th>\n",
       "      <td>saran ku dan pengalaman ku , mending beli mobi...</td>\n",
       "      <td>[saran, ku, dan, pengalaman, ku, mending, beli...</td>\n",
       "      <td>[saran, ku, dan, alam, ku, mending, beli, mobi...</td>\n",
       "    </tr>\n",
       "    <tr>\n",
       "      <th>3</th>\n",
       "      <td>dari segi harga juga pajero lebih mahal 30 jut...</td>\n",
       "      <td>[dari, segi, harga, juga, pajero, lebih, mahal...</td>\n",
       "      <td>[dari, segi, harga, juga, pajero, lebih, mahal...</td>\n",
       "    </tr>\n",
       "    <tr>\n",
       "      <th>4</th>\n",
       "      <td>kalo menurut gw enak pajero si</td>\n",
       "      <td>[kalo, menurut, gw, enak, pajero, si]</td>\n",
       "      <td>[kalo, turut, gw, enak, pajero, si]</td>\n",
       "    </tr>\n",
       "  </tbody>\n",
       "</table>\n",
       "</div>"
      ],
      "text/plain": [
       "                                            sentence  \\\n",
       "0  saya memakai honda jazz gk5 tahun 2014 ( perta...   \n",
       "1  avanza kenapa jadi boros bensin begini dah ah....   \n",
       "2  saran ku dan pengalaman ku , mending beli mobi...   \n",
       "3  dari segi harga juga pajero lebih mahal 30 jut...   \n",
       "4                     kalo menurut gw enak pajero si   \n",
       "\n",
       "                                  tokenized_sentence  \\\n",
       "0  [saya, memakai, honda, jazz, gk, tahun, pertam...   \n",
       "1  [avanza, kenapa, jadi, boros, bensin, begini, ...   \n",
       "2  [saran, ku, dan, pengalaman, ku, mending, beli...   \n",
       "3  [dari, segi, harga, juga, pajero, lebih, mahal...   \n",
       "4              [kalo, menurut, gw, enak, pajero, si]   \n",
       "\n",
       "                                      stemmed_tokens  \n",
       "0  [saya, pakai, honda, jazz, gk, tahun, pertama,...  \n",
       "1  [avanza, kenapa, jadi, boros, bensin, begini, ...  \n",
       "2  [saran, ku, dan, alam, ku, mending, beli, mobi...  \n",
       "3  [dari, segi, harga, juga, pajero, lebih, mahal...  \n",
       "4                [kalo, turut, gw, enak, pajero, si]  "
      ]
     },
     "execution_count": 49,
     "metadata": {},
     "output_type": "execute_result"
    }
   ],
   "source": [
    "df.head()"
   ]
  },
  {
   "cell_type": "markdown",
   "metadata": {},
   "source": [
    "Langkah selanjutnya adalah menghitung frekuensi kata dan membuat plot untuk kata-kata yang paling sering muncul dalam dataset. Untuk menghitung frekuensi kata, Kita bisa menggunakan `Counter` dari pustaka `collections` untuk menghitung kemunculan setiap kata dalam dataset."
   ]
  },
  {
   "cell_type": "code",
   "execution_count": null,
   "metadata": {},
   "outputs": [],
   "source": [
    "from collections import Counter\n",
    "import matplotlib.pyplot as plt\n",
    "\n",
    "# Gabungkan semua token dalam dataset menjadi satu list\n",
    "all_tokens = [token for tokens in df['tokenized_sentence'] for token in tokens]\n",
    "\n",
    "# Hitung frekuensi setiap kata\n",
    "word_freq = Counter(all_tokens)"
   ]
  },
  {
   "cell_type": "code",
   "execution_count": null,
   "metadata": {},
   "outputs": [
    {
     "data": {
      "text/plain": [
       "[('nya', 403),\n",
       " ('yang', 228),\n",
       " ('dan', 226),\n",
       " ('saya', 185),\n",
       " ('mobil', 174),\n",
       " ('di', 138),\n",
       " ('lebih', 136),\n",
       " ('ini', 131),\n",
       " ('banget', 127),\n",
       " ('avanza', 107),\n",
       " ('irit', 102),\n",
       " ('juga', 101),\n",
       " ('harga', 97),\n",
       " ('honda', 94),\n",
       " ('mesin', 90),\n",
       " ('untuk', 80),\n",
       " ('xenia', 79),\n",
       " ('dari', 74),\n",
       " ('nyaman', 72),\n",
       " ('dengan', 71)]"
      ]
     },
     "execution_count": 52,
     "metadata": {},
     "output_type": "execute_result"
    }
   ],
   "source": [
    "# Menampilkan 20 kata yang paling sering muncul\n",
    "top_20_words = word_freq.most_common(20)\n",
    "\n",
    "top_20_words"
   ]
  },
  {
   "cell_type": "code",
   "execution_count": 53,
   "metadata": {},
   "outputs": [
    {
     "data": {
      "image/png": "[encoded data removed]",
      "text/plain": [
       "<Figure size 1000x600 with 1 Axes>"
      ]
     },
     "metadata": {},
     "output_type": "display_data"
    }
   ],
   "source": [
    "# Pisahkan kata dan frekuensinya untuk plotting\n",
    "words, freqs = zip(*top_20_words)\n",
    "\n",
    "# Plotting frekuensi kata\n",
    "plt.figure(figsize=(10,6))\n",
    "plt.barh(words, freqs, color='skyblue')\n",
    "plt.xlabel('Frekuensi')\n",
    "plt.ylabel('Kata')\n",
    "plt.title('20 Kata Terbanyak dalam Dataset')\n",
    "plt.gca().invert_yaxis()  # Membalik urutan plot agar kata teratas muncul di atas\n",
    "plt.show()"
   ]
  }
 ],
 "metadata": {
  "kernelspec": {
   "display_name": "env",
   "language": "python",
   "name": "python3"
  },
  "language_info": {
   "codemirror_mode": {
    "name": "ipython",
    "version": 3
   },
   "file_extension": ".py",
   "mimetype": "text/x-python",
   "name": "python",
   "nbconvert_exporter": "python",
   "pygments_lexer": "ipython3",
   "version": "3.12.8"
  }
 },
 "nbformat": 4,
 "nbformat_minor": 2
}
