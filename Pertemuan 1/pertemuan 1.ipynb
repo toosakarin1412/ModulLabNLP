{
 "cells": [
  {
   "cell_type": "markdown",
   "metadata": {},
   "source": [
    "## **Pertemuan 1**"
   ]
  },
  {
   "cell_type": "markdown",
   "metadata": {},
   "source": [
    "### **Python**\n",
    "\n",
    "Python akan digunakan sebagai bahasa pemrograman dalam praktikum **Pemrosesan Bahasa Alami** ini. Untuk memastikan kelancaran praktikum, pastikan Python sudah terinstal di perangkat masing-masing. Disarankan untuk menggunakan versi Python *3.9* atau yang lebih baru, karena versi ini mendukung pustaka dan fitur terbaru yang dibutuhkan dalam pemrosesan bahasa alami. Jika Python belum terinstal, Anda dapat mengunduhnya dari situs resmi Python dan mengikuti petunjuk instalasi sesuai dengan sistem operasi yang digunakan.\n",
    "\n",
    "<h3>Why Python ?</h3>\n",
    "\n",
    "Python dipilih untuk praktikum ini karena beberapa alasan berikut:\n",
    "- Kemudahan Penggunaan: Sintaksis Python yang sederhana dan mudah dipahami memungkinkan penerapan berbagai teknik pemrosesan bahasa alami (NLP).\n",
    "- Ekosistem Pustaka yang Kuat: Python memiliki banyak pustaka seperti NLTK, spaCy, dan scikit-learn yang sangat mendukung pengolahan teks. Pustaka-pustaka ini mempermudah implementasi tugas-tugas NLP, seperti tokenisasi, analisis sentimen, dan ekstraksi entitas.\n",
    "- Komunitas yang Aktif: Python memiliki komunitas besar yang aktif berbagi pengetahuan, solusi, dan sumber daya pembelajaran.\n",
    "- Kecepatan Pengembangan: Python memungkinkan pengembangan yang cepat berkat sintaks yang mudah dan pustaka yang sudah teroptimasi.\n",
    "- Dukungan untuk Pembelajaran Mesin: Python menawarkan berbagai algoritma pembelajaran mesin yang sudah siap pakai dan dioptimalkan untuk NLP.\n",
    "\n",
    "<br>\n",
    "\n",
    "<div style=\"text-align: center;\">\n",
    "    <img src=\"python-libraries-ACTE.png\" />\n",
    "</div>\n"
   ]
  },
  {
   "cell_type": "markdown",
   "metadata": {},
   "source": [
    "### **Data Collecting**\n",
    "\n",
    "Selanjutnya, kita akan memasuki tahap berikutnya, yaitu mempelajari dan mendemonstrasikan berbagai metode pengumpulan data dalam NLP. Pengumpulan data merupakan langkah awal yang penting, karena kualitas serta variasi data akan mempengaruhi hasil analisis dan pengembangan model. Pada bagian ini, kita akan mengeksplorasi berbagai sumber data dan teknik yang dapat diterapkan untuk mengumpulkan informasi yang diperlukan dalam pemrosesan bahasa alami."
   ]
  },
  {
   "cell_type": "markdown",
   "metadata": {},
   "source": [
    "#### Mengambil Data dari X menggunakan tweepy\n",
    "\n",
    "Twitter menyimpan sejumlah besar data yang penuh dengan informasi berharga. Para pemasar media sosial memanfaatkan data ini untuk mendukung strategi mereka. Setiap hari, jutaan tweet diposting, masing-masing menyimpan cerita unik. Ketika data tersebut dikumpulkan dan dianalisis, hal ini dapat memberikan wawasan yang sangat berguna bagi perusahaan mengenai produk, layanan, dan berbagai aspek operasional mereka.\n",
    "\n",
    "Pada bagian ini, kita akan mempelajari cara mengakses dan mengambil data dari Twitter menggunakan pustaka `tweepy`. Dengan `tweepy`, kita dapat terhubung ke API Twitter dan mengumpulkan tweet sesuai dengan kriteria yang ditentukan. Berikut adalah demonstrasi mengenai cara menggunakan `tweepy` dalam kode program untuk mengambil data dari Twitter."
   ]
  },
  {
   "cell_type": "code",
   "execution_count": null,
   "metadata": {},
   "outputs": [],
   "source": [
    "# Instalasi pustaka tweepy\n",
    "!pip install tweepy\n",
    "\n",
    "# Mengimpor pustaka-pustaka yang diperlukan\n",
    "import numpy as np\n",
    "import json\n",
    "import tweepy\n",
    "import pandas as pd\n",
    "from tweepy import OAuthHandler\n",
    "\n",
    "# Kredensial API\n",
    "consumer_key = \"adjbiejfaaoeh\" \n",
    "consumer_secret = \"had73haf78af\"\n",
    "access_token = \"jnsfb5yu4yauwahfjeh\"\n",
    "access_token_secret = \"jhdfgay76847r6\"\n",
    "\n",
    "# Memanggil API Twitter\n",
    "auth = tweepy.OAuthHandler(consumer_key, consumer_secret)\n",
    "auth.set_access_token(access_token, access_token_secret)\n",
    "api = tweepy.API(auth)"
   ]
  },
  {
   "cell_type": "markdown",
   "metadata": {},
   "source": [
    "Untuk menarik tweet berdasarkan kata kunci tertentu, kita dapat menggunakan kode berikut:"
   ]
  },
  {
   "cell_type": "code",
   "execution_count": null,
   "metadata": {},
   "outputs": [],
   "source": [
    "# Mengambil tweet\n",
    "Tweets = api.search(query, count = 10, lang='id', exclude='retweets', tweet_mode='extended')"
   ]
  },
  {
   "cell_type": "markdown",
   "metadata": {},
   "source": [
    "Penjelasan Kode:\n",
    "- Kode di atas akan menarik 10 tweet teratas saat kata kunci 'ABC' dicari.\n",
    "- API ini akan mengambil tweet dalam bahasa Indonesia (dengan lang='id'), dan mengecualikan tweet yang merupakan retweet."
   ]
  },
  {
   "cell_type": "markdown",
   "metadata": {},
   "source": [
    "#### Membaca Data dari PDF\n",
    "\n",
    "Pada bagian ini, kita akan mempelajari cara mengambil teks dari file PDF, sehingga informasi yang ada di dalamnya dapat digunakan untuk analisis lebih lanjut dalam pemrosesan bahasa alami.\n",
    "\n",
    "Demonstrasi berikut akan memanfaatkan pustaka Python `PyPDF2` untuk mengekstraksi teks dari file PDF. Dengan menggunakan `PyPDF2`, kita dapat dengan mudah mengakses konten dokumen PDF."
   ]
  },
  {
   "cell_type": "markdown",
   "metadata": {},
   "source": [
    "Pertama, install terlebih dahulu pustaka `PyPDF2` dan mengimpornya dalam kode program:"
   ]
  },
  {
   "cell_type": "code",
   "execution_count": null,
   "metadata": {},
   "outputs": [],
   "source": [
    "!pip install PyPDF2\n",
    "import PyPDF2\n",
    "from PyPDF2 import PdfFileReader"
   ]
  },
  {
   "cell_type": "markdown",
   "metadata": {},
   "source": [
    "Selanjutnya, Gunakan kode berikut untuk membuka file PDF, membaca isinya, dan mengekstrak teks dari halaman pertama:"
   ]
  },
  {
   "cell_type": "code",
   "execution_count": null,
   "metadata": {},
   "outputs": [],
   "source": [
    "# Membuka file PDF\n",
    "pdf = open(\"file.pdf\", \"rb\")\n",
    "\n",
    "# Membuat objek pembaca PDF\n",
    "pdf_reader = PyPDF2.PdfFileReader(pdf)\n",
    "\n",
    "# Mengecek jumlah halaman dalam file PDF\n",
    "print(pdf_reader.numPages)\n",
    "\n",
    "# Membuat objek halaman\n",
    "page = pdf_reader.getPage(0)\n",
    "\n",
    "# Mengekstrak teks dari halaman\n",
    "print(page.extractText())\n",
    "\n",
    "# Menutup file PDF setelah selesai\n",
    "pdf.close()"
   ]
  },
  {
   "cell_type": "markdown",
   "metadata": {},
   "source": [
    "Penjelasan Kode:\n",
    "- Pertama, file PDF dibuka dalam mode rb (read-binary).\n",
    "- Objek `PdfFileReader` digunakan untuk membaca file PDF dan mengecek jumlah halaman dengan `pdf_reader.numPages`.\n",
    "- Untuk mengekstrak teks, kita menggunakan metode `extractText()` pada objek halaman.\n",
    "- Terakhir, file PDF ditutup setelah teks berhasil diambil."
   ]
  },
  {
   "cell_type": "markdown",
   "metadata": {},
   "source": [
    "#### Membaca Data dari file Word (Microsoft Word)\n",
    "\n",
    "Pada bagian ini, kita akan mempelajari cara membaca data dari file Microsoft Word. File Word sering digunakan untuk menyimpan dokumen teks yang berisi informasi yang bisa dianalisis lebih lanjut dalam pemrosesan bahasa alami. Dengan menggunakan pustaka Python, kita dapat mengekstrak teks dari file Word dan memanfaatkannya untuk berbagai tujuan analisis."
   ]
  },
  {
   "cell_type": "markdown",
   "metadata": {},
   "source": [
    "Anda perlu menginstal pustaka python-docx dan mengimpornya:"
   ]
  },
  {
   "cell_type": "code",
   "execution_count": null,
   "metadata": {},
   "outputs": [],
   "source": [
    "# Instalasi pustaka python-docx\n",
    "!pip install python-docx\n",
    "\n",
    "# Mengimpor pustaka yang diperlukan\n",
    "from docx import Document"
   ]
  },
  {
   "cell_type": "markdown",
   "metadata": {},
   "source": [
    "Setelah pustaka diimpor, Anda dapat membuka file Word dan mengekstrak teksnya:"
   ]
  },
  {
   "cell_type": "code",
   "execution_count": null,
   "metadata": {},
   "outputs": [],
   "source": [
    "# Membuka file Word\n",
    "doc = Document(\"file.docx\")\n",
    "\n",
    "# Membuat string kosong untuk menampung hasil ekstraksi\n",
    "docu = \"\"\n",
    "\n",
    "# Melakukan iterasi pada setiap paragraf dalam dokumen\n",
    "for para in doc.paragraphs:\n",
    "    docu += para.text + \"\\n\"  # Menambahkan setiap paragraf ke string\n",
    "\n",
    "# Menampilkan hasil ekstraksi teks\n",
    "print(docu)"
   ]
  },
  {
   "cell_type": "markdown",
   "metadata": {},
   "source": [
    "Penjelasan Kode:\n",
    "- `Document(\"file.docx\")`: Membuka file `.docx`.\n",
    "- `for para in doc.paragraphs`: Melakukan iterasi pada setiap paragraf dalam dokumen Word.\n",
    "- `docu += para.text`: Menambahkan teks setiap paragraf ke dalam string docu.\n",
    "- `print(docu)`: Menampilkan hasil ekstraksi teks."
   ]
  },
  {
   "cell_type": "markdown",
   "metadata": {},
   "source": [
    "#### Membaca Data dari file JSON\n",
    "\n",
    "Pada bagian ini, kita akan mempelajari cara membaca data dari file JSON. JSON sering digunakan untuk menyimpan data terstruktur dalam format teks."
   ]
  },
  {
   "cell_type": "markdown",
   "metadata": {},
   "source": [
    "Anda perlu menginstal pustaka yang diperlukan dan mengimpor pustaka tersebut:"
   ]
  },
  {
   "cell_type": "code",
   "execution_count": null,
   "metadata": {},
   "outputs": [],
   "source": [
    "# Instalasi pustaka yang diperlukan\n",
    "!pip install requests\n",
    "\n",
    "# Mengimpor pustaka\n",
    "import requests\n",
    "import json"
   ]
  },
  {
   "cell_type": "markdown",
   "metadata": {},
   "source": [
    "Kemudian, kita akan mengambil data dari file JSON menggunakan pustaka `requests` dan kemudian menampilkan hasilnya:"
   ]
  },
  {
   "cell_type": "code",
   "execution_count": null,
   "metadata": {},
   "outputs": [],
   "source": [
    "# Mengambil data dari URL JSON\n",
    "url = \"https://quotes.rest/qod.json\"\n",
    "r = requests.get(url)\n",
    "res = r.json()\n",
    "\n",
    "# Menampilkan data JSON dalam format yang lebih mudah dibaca\n",
    "print(json.dumps(res, indent=4))"
   ]
  },
  {
   "cell_type": "markdown",
   "metadata": {},
   "source": [
    "Setelah mendapatkan data JSON, kita dapat mengekstrak informasi spesifik dari struktur data tersebut, seperti kutipan dan penulis:"
   ]
  },
  {
   "cell_type": "code",
   "execution_count": null,
   "metadata": {},
   "outputs": [],
   "source": [
    "# Mengekstrak kutipan dari data JSON\n",
    "q = res['contents']['quotes'][0]\n",
    "\n",
    "# Menampilkan kutipan dan penulis\n",
    "print(q['quote'], '\\n--', q['author'])"
   ]
  },
  {
   "cell_type": "markdown",
   "metadata": {},
   "source": [
    "Program ini akan mengeluarkan output seperti berikut:"
   ]
  },
  {
   "cell_type": "code",
   "execution_count": null,
   "metadata": {},
   "outputs": [],
   "source": [
    "# Output\n",
    "It wasn't raining when Noah built the ark....\n",
    "-- Howard Ruff"
   ]
  },
  {
   "cell_type": "markdown",
   "metadata": {},
   "source": [
    "Penjelasan:\n",
    "- Kita mengambil data dari URL JSON menggunakan requests.get().\n",
    "- Setelah itu, data yang diterima dikonversi menjadi format JSON dengan r.json().\n",
    "- Kemudian, data kutipan dan penulis diambil dari objek JSON dan ditampilkan."
   ]
  }
 ],
 "metadata": {
  "language_info": {
   "name": "python"
  }
 },
 "nbformat": 4,
 "nbformat_minor": 2
}
