{
 "cells": [
  {
   "cell_type": "markdown",
   "metadata": {},
   "source": [
    "## **Pertemuan 1**"
   ]
  },
  {
   "cell_type": "markdown",
   "metadata": {},
   "source": [
    "### **Python**\n",
    "\n",
    "Python akan digunakan sebagai bahasa pemrograman dalam praktikum **Pemrosesan Bahasa Alami** ini. Untuk memastikan kelancaran praktikum, pastikan Python sudah terinstal di perangkat masing-masing. Disarankan untuk menggunakan versi Python *3.9* atau yang lebih baru, karena versi ini mendukung pustaka dan fitur terbaru yang dibutuhkan dalam pemrosesan bahasa alami. Jika Python belum terinstal, Anda dapat mengunduhnya dari situs resmi Python dan mengikuti petunjuk instalasi sesuai dengan sistem operasi yang digunakan.\n",
    "\n",
    "<h3>Why Python ?</h3>\n",
    "\n",
    "Python dipilih untuk praktikum ini karena beberapa alasan berikut:\n",
    "- Kemudahan Penggunaan: Sintaksis Python yang sederhana dan mudah dipahami memungkinkan penerapan berbagai teknik pemrosesan bahasa alami (NLP).\n",
    "- Ekosistem Pustaka yang Kuat: Python memiliki banyak pustaka seperti NLTK, spaCy, dan scikit-learn yang sangat mendukung pengolahan teks. Pustaka-pustaka ini mempermudah implementasi tugas-tugas NLP, seperti tokenisasi, analisis sentimen, dan ekstraksi entitas.\n",
    "- Komunitas yang Aktif: Python memiliki komunitas besar yang aktif berbagi pengetahuan, solusi, dan sumber daya pembelajaran.\n",
    "- Kecepatan Pengembangan: Python memungkinkan pengembangan yang cepat berkat sintaks yang mudah dan pustaka yang sudah teroptimasi.\n",
    "- Dukungan untuk Pembelajaran Mesin: Python menawarkan berbagai algoritma pembelajaran mesin yang sudah siap pakai dan dioptimalkan untuk NLP.\n",
    "\n",
    "<br>\n",
    "\n",
    "<div style=\"text-align: center;\">\n",
    "    <img src=\"img/python-libraries-ACTE.png\" />\n",
    "</div>\n"
   ]
  },
  {
   "cell_type": "markdown",
   "metadata": {},
   "source": [
    "### **Data Collecting**\n",
    "\n",
    "Selanjutnya, kita akan memasuki tahap berikutnya, yaitu mempelajari dan mendemonstrasikan berbagai metode pengumpulan data dalam NLP. Pengumpulan data merupakan langkah awal yang penting, karena kualitas serta variasi data akan mempengaruhi hasil analisis dan pengembangan model. Pada bagian ini, kita akan mengeksplorasi berbagai sumber data dan teknik yang dapat diterapkan untuk mengumpulkan informasi yang diperlukan dalam pemrosesan bahasa alami."
   ]
  },
  {
   "cell_type": "markdown",
   "metadata": {},
   "source": [
    "#### Mengambil Data dari X menggunakan tweepy\n",
    "\n",
    "Twitter menyimpan sejumlah besar data yang penuh dengan informasi berharga. Para pemasar media sosial memanfaatkan data ini untuk mendukung strategi mereka. Setiap hari, jutaan tweet diposting, masing-masing menyimpan cerita unik. Ketika data tersebut dikumpulkan dan dianalisis, hal ini dapat memberikan wawasan yang sangat berguna bagi perusahaan mengenai produk, layanan, dan berbagai aspek operasional mereka.\n",
    "\n",
    "Pada bagian ini, kita akan mempelajari cara mengakses dan mengambil data dari Twitter menggunakan pustaka `tweepy`. Dengan `tweepy`, kita dapat terhubung ke API Twitter dan mengumpulkan tweet sesuai dengan kriteria yang ditentukan. Berikut adalah demonstrasi mengenai cara menggunakan `tweepy` dalam kode program untuk mengambil data dari Twitter."
   ]
  },
  {
   "cell_type": "code",
   "execution_count": 1,
   "metadata": {},
   "outputs": [
    {
     "name": "stdout",
     "output_type": "stream",
     "text": [
      "Defaulting to user installation because normal site-packages is not writeable\n",
      "Requirement already satisfied: tweepy in /home/rin1412/.local/lib/python3.13/site-packages (4.15.0)\n",
      "Requirement already satisfied: oauthlib<4,>=3.2.0 in /home/rin1412/.local/lib/python3.13/site-packages (from tweepy) (3.2.2)\n",
      "Requirement already satisfied: requests<3,>=2.27.0 in /usr/lib/python3.13/site-packages (from tweepy) (2.32.3)\n",
      "Requirement already satisfied: requests-oauthlib<3,>=1.2.0 in /home/rin1412/.local/lib/python3.13/site-packages (from tweepy) (2.0.0)\n",
      "Requirement already satisfied: charset-normalizer<4,>=2 in /usr/lib/python3.13/site-packages (from requests<3,>=2.27.0->tweepy) (3.3.2)\n",
      "Requirement already satisfied: idna<4,>=2.5 in /usr/lib/python3.13/site-packages (from requests<3,>=2.27.0->tweepy) (3.7)\n",
      "Requirement already satisfied: urllib3<3,>=1.21.1 in /usr/lib/python3.13/site-packages (from requests<3,>=2.27.0->tweepy) (1.26.20)\n",
      "Note: you may need to restart the kernel to use updated packages.\n"
     ]
    }
   ],
   "source": [
    "# Instalasi library tweepy\n",
    "%pip install tweepy"
   ]
  },
  {
   "cell_type": "code",
   "execution_count": 51,
   "metadata": {},
   "outputs": [],
   "source": [
    "# Mengimpor pustaka-pustaka yang diperlukan\n",
    "import numpy as np\n",
    "import json\n",
    "import tweepy\n",
    "import pandas as pd\n",
    "\n",
    "# Kredensial API\n",
    "consumer_key = \"your_consumer_key\"\n",
    "consumer_secret = \"your_consumer_secret\"\n",
    "access_token = \"your_access_token\"\n",
    "access_token_secret = \"your_access_token_secret\"\n",
    "bearer_token = 'your_bearer_token'\n",
    "\n",
    "# Membuat client API Twitter V2\n",
    "client = tweepy.Client(bearer_token=bearer_token, consumer_key=consumer_key, consumer_secret=consumer_secret, access_token=access_token, access_token_secret=access_token_secret)"
   ]
  },
  {
   "cell_type": "markdown",
   "metadata": {},
   "source": [
    "Untuk menarik tweet berdasarkan kata kunci tertentu, kita dapat menggunakan kode berikut:"
   ]
  },
  {
   "cell_type": "code",
   "execution_count": 65,
   "metadata": {},
   "outputs": [
    {
     "name": "stdout",
     "output_type": "stream",
     "text": [
      "RT @Dukesno1: @Granite77777 這就是有組織的輿論戰內容，應對需要明確幾個事實：\n",
      "1、NIH資助的是防止病毒大流行項目、Baric教授的是生物醫學技術，被中共軍事醫學科學院、武漢病毒所利用製造Covid19病毒\n",
      "2、中共從2019年12月初至2020年1…\n",
      "RT @JamesSentacnoly: @uaRM3CDQBGDIJm7 コロナウイルスは目からも感染し、逆に血管、神経から目にも到達し、障害を起こします\n",
      "網膜血管は心血管の抹消　眼科的症状との関連\n",
      "https://t.co/wmq80VgSgP\n",
      "目からの感染だけではなく体液…\n",
      "RT @Incorrectibles: 🔴💥 LES RÉVÉLATIONS EXPLOSIVES DE PIERRE CHAILLOT (@decoder_l) SUR LE #COVID19 !\n",
      "\n",
      "« Il n’y a pas la moindre étude scient…\n",
      "RT @sarahmarsham: @SadiqKhan @RichardWatts01 @CarolineLucas @CarolineRussell @jeremycorbyn @TheGreenParty  @IslingtonLabour @Clive_Carter @…\n",
      "RT @Incorrectibles: 🔴💥 LES RÉVÉLATIONS EXPLOSIVES DE PIERRE CHAILLOT (@decoder_l) SUR LE #COVID19 !\n",
      "\n",
      "« Il n’y a pas la moindre étude scient…\n",
      "RT @SenNenadiParody: She walking free.\n",
      "\n",
      "No charges.\n",
      "\n",
      "Legend of our democracy\n",
      "\n",
      "Sadiya Farouq, Frm Humanitarian Disaster.\n",
      "\n",
      "₦37.1bn Gone\n",
      "\n",
      "N500…\n",
      "@bysisa_isah @MarioNawfal No, because they create solutions looking for a problem, and by doing it they create problems, such as covid19, or overblow problems like climate change and then create additional problems solving the created problem inflation and potentially energy and food scarcity.\n",
      "RT @SenNenadiParody: She walking free.\n",
      "\n",
      "No charges.\n",
      "\n",
      "Legend of our democracy\n",
      "\n",
      "Sadiya Farouq, Frm Humanitarian Disaster.\n",
      "\n",
      "₦37.1bn Gone\n",
      "\n",
      "N500…\n",
      "RT @pravinK29417382: Donald trump is posted in public as hero of america,more narratives are coming in sequence because democrate are more…\n",
      "RT @AranazJoseju: \"Diario de una #JMJ (XIX)\":\n",
      "\n",
      "https://t.co/9dmA0b6IFh\n",
      "\n",
      "#COVID19 #COVIDー19 #Covid #COVID_19 #Rusia #Ucrania #Russia #Israel…\n",
      "RT @AranazJoseju: \"Diario de una #JMJ (XIX)\":\n",
      "\n",
      "https://t.co/9dmA0b6aPJ\n",
      "\n",
      "#COVID19 #COVIDー19 #Covid #COVID_19 #Rusia #Ucrania #Russia #Israel…\n",
      "RT @AranazJoseju: \"Diario de una #JMJ (XIX)\":\n",
      "\n",
      "https://t.co/9dmA0b6aPJ\n",
      "\n",
      "#COVID19 #COVIDー19 #Covid #COVID_19 #Rusia #Ucrania #Russia #Israel…\n",
      "@HendrikWuest Auch Covid19 verkürzt das Leben.\n",
      "Aber das verleugnet man ja.\n",
      "RT @uniumigame: そうだったのか、、イーロンマスク\n",
      "\n",
      "#COVID19\n",
      "#コロナワクチン\n",
      "\n",
      "#USAIDScandal \n",
      "#SNSの言論統制に反対します \n",
      "\n",
      "https://t.co/bMJPNKObzU\n",
      "RT @BumblebeeJoe: Zo. Dat u nog maar eens helder voor ogen heeft wat instanties als het @rivm, het NIVEL en het @Lareb_NL bedoelen als zij…\n",
      "RT @BumblebeeJoe: Zo. Dat u nog maar eens helder voor ogen heeft wat instanties als het @rivm, het NIVEL en het @Lareb_NL bedoelen als zij…\n",
      "RT @robinmonotti: BlackRock CEO explains how the real goal of depopulation (Covid19, Midazolam, Remdesivir, \"vaccines\", euthanasia, abortio…\n",
      "RT @MILTONRIANOP: Las abejas son parte fundamental de nuestro planeta y parte de la vida del ser humano, lo cual estamos acabando sus colme…\n",
      "それが「獣の刻印」＝Covid19 ワクチンでしたｗ🤣 https://t.co/ayW8AaFoLC\n",
      "@BGatesIsaPyscho What a farce.\n",
      "Are politicians  taking HIV test in public the new COVID19 stunt ?\n"
     ]
    }
   ],
   "source": [
    "result = client.search_recent_tweets(query=\"covid19\", max_results=20)\n",
    "for tweet in result.data:\n",
    "    print(tweet.text)"
   ]
  },
  {
   "cell_type": "markdown",
   "metadata": {},
   "source": [
    "Penjelasan Kode:\n",
    "- Kode di atas akan menarik 10 tweet teratas saat kata kunci 'ABC' dicari.\n",
    "- API ini akan mengambil tweet dalam bahasa Indonesia (dengan lang='id'), dan mengecualikan tweet yang merupakan retweet."
   ]
  },
  {
   "cell_type": "markdown",
   "metadata": {},
   "source": [
    "#### Membaca Data dari PDF\n",
    "\n",
    "Pada bagian ini, kita akan mempelajari cara mengambil teks dari file PDF, sehingga informasi yang ada di dalamnya dapat digunakan untuk analisis lebih lanjut dalam pemrosesan bahasa alami.\n",
    "\n",
    "Demonstrasi berikut akan memanfaatkan pustaka Python `PyPDF2` untuk mengekstraksi teks dari file PDF. Dengan menggunakan `PyPDF2`, kita dapat dengan mudah mengakses konten dokumen PDF."
   ]
  },
  {
   "cell_type": "markdown",
   "metadata": {},
   "source": [
    "Pertama, install terlebih dahulu pustaka `PyPDF2` dan mengimpornya dalam kode program:"
   ]
  },
  {
   "cell_type": "code",
   "execution_count": 3,
   "metadata": {},
   "outputs": [
    {
     "name": "stdout",
     "output_type": "stream",
     "text": [
      "Defaulting to user installation because normal site-packages is not writeable\n",
      "Requirement already satisfied: PyPDF2 in /home/rin1412/.local/lib/python3.13/site-packages (3.0.1)\n",
      "Note: you may need to restart the kernel to use updated packages.\n"
     ]
    }
   ],
   "source": [
    "# Instalasi library PyPDF2\n",
    "%pip install PyPDF2"
   ]
  },
  {
   "cell_type": "code",
   "execution_count": 4,
   "metadata": {},
   "outputs": [],
   "source": [
    "import PyPDF2\n",
    "from PyPDF2 import PdfFileReader"
   ]
  },
  {
   "cell_type": "markdown",
   "metadata": {},
   "source": [
    "Selanjutnya, Gunakan kode berikut untuk membuka file PDF, membaca isinya, dan mengekstrak teks dari halaman pertama:"
   ]
  },
  {
   "cell_type": "code",
   "execution_count": 59,
   "metadata": {},
   "outputs": [
    {
     "name": "stdout",
     "output_type": "stream",
     "text": [
      "<PyPDF2._page._VirtualList object at 0x7fc39cd72150>\n",
      "Modul 1 Praktikum Natural Language Processing\n",
      "Modul 1 Praktikum Natural Language Processing\n",
      "Pengenalan Pengolahan Data Teks menggunakan Python\n",
      "Deskripsi Singkat\n",
      "Modul ini akan membahas pengenalan pengolahan data teks menggunakan ba-\n",
      "hasa Python. Modul ini terdiri dari 5 materi yang akan membahas pengumpu-\n",
      "lan data menggunakan API, membaca data dari berbagai format file yang ada\n",
      "seperti PDF, Word, JSON, dan HTML.\n",
      "Tujuan\n",
      "1. Dapat mengumpulkan data menggunakan melalui API yang tersedia di\n",
      "internet\n",
      "2. Dapat membaca data dari berbagai format file yang ada\n",
      "Materi 1 - Pengumpulan Data\n",
      "Studi Kasus\n",
      "Anda ingin mengumpulkan data menggunakan API Twitter\n",
      "Langkah-langkah\n",
      "1. Mendapatkan Bearer Token pada halaman Portal Developer Twitter\n",
      "https://developer.x.com/en/portal/\n",
      "2. Menginstall library tweepy\n",
      "pip install tweepy\n",
      "3. Import library yang dibutuhkan\n",
      "1import tweepy\n",
      "4. Memasukkan bearer token sebagai akses token ke API Twitter\n",
      "1bearer_token = ’ your_bearer_token ’\n",
      "5. Membuat client ke API Twitter\n",
      "1client = tweepy . Client ( bearer_token = bearer_token )\n",
      "6. Membuat query untuk mengambil data tweet berdasarkan kata kunci\n",
      "1query = ’covid -19 ’\n",
      "2result = client . search_recent_tweets ( query =query , max_results\n",
      "=20)\n",
      "Prof. Dr. Taufik Fuadi Abidin, S.Si., M. Tech.\n",
      "Jurusan Informatika Universitas Syiah Kuala\n",
      "Modul oleh : Diky Wahyudi, Furqan Al Ghifari ZulvaPage 1\n"
     ]
    }
   ],
   "source": [
    "# Membuka file PDF\n",
    "pdf = open(\"pertemuan_1.pdf\", \"rb\")\n",
    "\n",
    "# Membuat objek pembaca PDF\n",
    "pdf_reader = PyPDF2.PdfReader(pdf)\n",
    "\n",
    "# Mengecek jumlah halaman dalam file PDF\n",
    "print(pdf_reader.pages)\n",
    "\n",
    "# Membuat objek halaman\n",
    "page = pdf_reader.pages[0]\n",
    "\n",
    "# Mengekstrak teks dari halaman\n",
    "print(page.extract_text())\n",
    "\n",
    "# Menutup file PDF setelah selesai\n",
    "pdf.close()"
   ]
  },
  {
   "cell_type": "markdown",
   "metadata": {},
   "source": [
    "Penjelasan Kode:\n",
    "- Pertama, file PDF dibuka dalam mode rb (read-binary).\n",
    "- Objek `PdfFileReader` digunakan untuk membaca file PDF dan mengecek jumlah halaman dengan `pdf_reader.numPages`.\n",
    "- Untuk mengekstrak teks, kita menggunakan metode `extractText()` pada objek halaman.\n",
    "- Terakhir, file PDF ditutup setelah teks berhasil diambil."
   ]
  },
  {
   "cell_type": "markdown",
   "metadata": {},
   "source": [
    "#### Membaca Data dari file Word (Microsoft Word)\n",
    "\n",
    "Pada bagian ini, kita akan mempelajari cara membaca data dari file Microsoft Word. File Word sering digunakan untuk menyimpan dokumen teks yang berisi informasi yang bisa dianalisis lebih lanjut dalam pemrosesan bahasa alami. Dengan menggunakan pustaka Python, kita dapat mengekstrak teks dari file Word dan memanfaatkannya untuk berbagai tujuan analisis."
   ]
  },
  {
   "cell_type": "markdown",
   "metadata": {},
   "source": [
    "Anda perlu menginstal pustaka python-docx dan mengimpornya:"
   ]
  },
  {
   "cell_type": "code",
   "execution_count": null,
   "metadata": {},
   "outputs": [
    {
     "name": "stdout",
     "output_type": "stream",
     "text": [
      "Defaulting to user installation because normal site-packages is not writeable\n",
      "Requirement already satisfied: docx in /home/rin1412/.local/lib/python3.13/site-packages (0.2.4)\n",
      "Requirement already satisfied: lxml in /usr/lib64/python3.13/site-packages (from docx) (5.2.1)\n",
      "Requirement already satisfied: Pillow>=2.0 in /usr/lib64/python3.13/site-packages (from docx) (11.0.0)\n",
      "Note: you may need to restart the kernel to use updated packages.\n"
     ]
    }
   ],
   "source": [
    "# Instalasi pustaka python-docx\n",
    "%pip install python-docx"
   ]
  },
  {
   "cell_type": "code",
   "execution_count": 13,
   "metadata": {},
   "outputs": [],
   "source": [
    "# Mengimpor pustaka yang diperlukan\n",
    "import docx"
   ]
  },
  {
   "cell_type": "markdown",
   "metadata": {},
   "source": [
    "Setelah pustaka diimpor, Anda dapat membuka file Word dan mengekstrak teksnya:"
   ]
  },
  {
   "cell_type": "code",
   "execution_count": 17,
   "metadata": {},
   "outputs": [
    {
     "name": "stdout",
     "output_type": "stream",
     "text": [
      "Aktifitas 1: (Menuju tur 360)\n",
      "Pertanyaan: Bagaimana pengguna menuju halaman tur 360?\n",
      "Uraian: Pengguna bisa menuju halaman tur 360.\n",
      "Langkah-langkah: \n",
      "Pengguna meng-klik tombol pada beranda.\n",
      "Klik tombol pada NavBar.\n",
      "Scroll halaman ke bawah.\n",
      "Data yang dikumpulkan:\n",
      "Komentar tampilan dengan menanyakan diakhir pengujian.\n",
      "Bisa melakukan aktifitas (sukses/gagal).\n",
      "Waktu melakukan aktifitas pakai stopwatch sampai selesai.\n",
      "\n",
      "Aktifitas 2: (Mengganti bahasa)\n",
      "Pertanyaan: Apakah pengguna mengetahui bahwa situs tersebut bisa menggunakan multi language?\n",
      "Uraian: Pengguna mengetahui situs memiliki fungsi multi language.\n",
      "Langkah-langkah: \n",
      "Pengguna meng-klik tombol di pojok kanan atas pada NavBar.\n",
      "Pilih bahasa yang diinginkan (ID/EN)\n",
      "Data yang dikumpulkan:\n",
      "Komentar tampilan dengan menanyakan diakhir pengujian.\n",
      "Bisa melakukan aktifitas (sukses/gagal).\n",
      "Waktu melakukan aktifitas pakai stopwatch sampai selesai.\n",
      "\n",
      "Aktifitas 3: (Menggunakan halaman tur 360)\n",
      "Pertanyaan: Bagaimana cara menggunakan halaman tur 360?\n",
      "Uraian: Pengguna bisa menggunakan halaman tur 360.\n",
      "Langkah-langkah: \n",
      "Pengguna meng-klik salah satu menu tur 360.\n",
      "Klik tombol fullscreen di kanan atas untuk membuat layar penuh.\n",
      "Click and Drop untuk melihat sekitar.\n",
      "Klik tombol lingkaran putih untuk menuju scene selanjutnya.\n",
      "Klik pada preview gambar di bawah untuk menuju scene yang diinginkan.\n",
      "Data yang dikumpulkan:\n",
      "Komentar tampilan dengan menanyakan diakhir pengujian.\n",
      "Bisa melakukan aktifitas (sukses/gagal).\n",
      "Waktu melakukan aktifitas pakai stopwatch sampai selesai.\n",
      "\n",
      "Aktifitas 4: (Menggunakan tombol pada tur 360)\n",
      "Pertanyaan: Apakah pengguna mengetahui fungsi dari tombol yang ada di tur 360?\n",
      "Uraian: Pengguna mengetahui tiap fungsi tombol pada halaman tur 360.\n",
      "Langkah-langkah: \n",
      "Pengguna meng-klik tombol lingkaran untuk menuju ke scene selanjutnya.\n",
      "Pengguna meng-klik tombol “i” untuk memunculkan informasi (pada scene yang terdapat tombol “i”).\n",
      "Pengguna meng-klik tombol “3D” untuk memunculkan 3D model artefak batu nisan (pada scene yang terdapat tombol “3D”).\n",
      "Data yang dikumpulkan:\n",
      "Komentar tampilan dengan menanyakan diakhir pengujian.\n",
      "Bisa melakukan aktifitas (sukses/gagal).\n",
      "Waktu melakukan aktifitas pakai stopwatch sampai selesai.\n",
      "\n",
      "Aktifitas 5: (Memunculkan informasi pada scene tur 360)\n",
      "Pertanyaan: Bagaimana pengguna memunculkan informasi di halaman tur 360?\n",
      "Uraian: Pengguna mengetahui cara menggunakan fitur informasi di halaman tur 360.\n",
      "Langkah-langkah: \n",
      "Pengguna meng-klik tombol “i” untuk memunculkan informasi (pada scene yang terdapat tombol “i”).\n",
      "Scroll halaman ke bawah untuk menampilkan informasi secara keseluruhan.\n",
      "Klik tombol silang ”X” untuk menutup tampilan informasi.\n",
      "Data yang dikumpulkan:\n",
      "Komentar tampilan dengan menanyakan diakhir pengujian.\n",
      "Bisa melakukan aktifitas (sukses/gagal).\n",
      "Waktu melakukan aktifitas pakai stopwatch sampai selesai.\n",
      "\n",
      "Aktifitas 6: (Menggunakan halaman 3D model artefak batu nisan)\n",
      "Pertanyaan: Bagaimana pengguna menggunakan fitur 3D model artefak batu nisan di halaman tur 360?\n",
      "Uraian: Pengguna mengetahui cara menggunakan fitur 3D model artefak batu nisan di halaman tur 360.\n",
      "Langkah-langkah: \n",
      "Pengguna meng-klik tombol “3D” untuk memunculkan halaman 3D model (pada scene yang terdapat tombol “3D”).\n",
      "Arahkan kursor menggunakan mouse atau touchpad untuk rotasi 3D model artefak batu nisan secara manual\n",
      "Scroll tombol tengah pada mouse untuk zoom in dan zoom out 3D model artefak batu nisan.\n",
      "Klik tombol fullscreen di kanan bawah untuk membuat layar penuh.\n",
      "Pengguna meng-klik tombol “i” untuk memunculkan informasi terkait 3D model artefak batu nisan.\n",
      "Pengguna meng-klik tombol “auto rotation” untuk rotasi 3D model secara otomatis.\n",
      "Pengguna meng-klik tombol “disable text” untuk menyembunyikan seluruh teks dan tombol di dalam widget.\n",
      "‘Q’ dan ‘E’ untuk menurunkan dan menaikkan 3D model artefak batu nisan.\n",
      "‘S’ untuk mengembalikan rotasi 3D model artefak batu nisan ke posisi awal.\n",
      "‘W’ untuk mengembalikan zoom objek batu nisan ke posisi awal.\n",
      "Data yang dikumpulkan:\n",
      "Komentar tampilan dengan menanyakan diakhir pengujian.\n",
      "Bisa melakukan aktifitas (sukses/gagal).\n",
      "Waktu melakukan aktifitas pakai stopwatch sampai selesai.\n",
      "\n",
      "\n"
     ]
    }
   ],
   "source": [
    "# Membuka file Word\n",
    "doc = docx.Document(\"test plan.docx\")\n",
    "\n",
    "# Membuat string kosong untuk menampung hasil ekstraksi\n",
    "docu = \"\"\n",
    "\n",
    "# Melakukan iterasi pada setiap paragraf dalam dokumen\n",
    "for para in doc.paragraphs:\n",
    "    docu += para.text + \"\\n\"  # Menambahkan setiap paragraf ke string\n",
    "\n",
    "# Menampilkan hasil ekstraksi teks\n",
    "print(docu)"
   ]
  },
  {
   "cell_type": "markdown",
   "metadata": {},
   "source": [
    "Penjelasan Kode:\n",
    "- `Document(\"file.docx\")`: Membuka file `.docx`.\n",
    "- `for para in doc.paragraphs`: Melakukan iterasi pada setiap paragraf dalam dokumen Word.\n",
    "- `docu += para.text`: Menambahkan teks setiap paragraf ke dalam string docu.\n",
    "- `print(docu)`: Menampilkan hasil ekstraksi teks."
   ]
  },
  {
   "cell_type": "markdown",
   "metadata": {},
   "source": [
    "#### Membaca Data dari file JSON\n",
    "\n",
    "Pada bagian ini, kita akan mempelajari cara membaca data dari file JSON. JSON sering digunakan untuk menyimpan data terstruktur dalam format teks."
   ]
  },
  {
   "cell_type": "markdown",
   "metadata": {},
   "source": [
    "Anda perlu menginstal pustaka yang diperlukan dan mengimpor pustaka tersebut:"
   ]
  },
  {
   "cell_type": "code",
   "execution_count": 11,
   "metadata": {},
   "outputs": [
    {
     "name": "stdout",
     "output_type": "stream",
     "text": [
      "Defaulting to user installation because normal site-packages is not writeable\n",
      "Requirement already satisfied: requests in /usr/lib/python3.13/site-packages (2.32.3)\n",
      "Requirement already satisfied: charset-normalizer<4,>=2 in /usr/lib/python3.13/site-packages (from requests) (3.3.2)\n",
      "Requirement already satisfied: idna<4,>=2.5 in /usr/lib/python3.13/site-packages (from requests) (3.7)\n",
      "Requirement already satisfied: urllib3<3,>=1.21.1 in /usr/lib/python3.13/site-packages (from requests) (1.26.20)\n",
      "Note: you may need to restart the kernel to use updated packages.\n"
     ]
    }
   ],
   "source": [
    "# Instalasi library yang diperlukan\n",
    "%pip install requests"
   ]
  },
  {
   "cell_type": "code",
   "execution_count": 19,
   "metadata": {},
   "outputs": [],
   "source": [
    "# Mengimpor pustaka\n",
    "import requests\n",
    "import json"
   ]
  },
  {
   "cell_type": "markdown",
   "metadata": {},
   "source": [
    "Kemudian, kita akan mengambil data dari file JSON menggunakan pustaka `requests` dan kemudian menampilkan hasilnya:"
   ]
  },
  {
   "cell_type": "code",
   "execution_count": 60,
   "metadata": {},
   "outputs": [
    {
     "name": "stdout",
     "output_type": "stream",
     "text": [
      "[{'userId': 1, 'id': 1, 'title': 'delectus aut autem', 'completed': False}, {'userId': 1, 'id': 2, 'title': 'quis ut nam facilis et officia qui', 'completed': False}, {'userId': 1, 'id': 3, 'title': 'fugiat veniam minus', 'completed': False}, {'userId': 1, 'id': 4, 'title': 'et porro tempora', 'completed': True}, {'userId': 1, 'id': 5, 'title': 'laboriosam mollitia et enim quasi adipisci quia provident illum', 'completed': False}, {'userId': 1, 'id': 6, 'title': 'qui ullam ratione quibusdam voluptatem quia omnis', 'completed': False}, {'userId': 1, 'id': 7, 'title': 'illo expedita consequatur quia in', 'completed': False}, {'userId': 1, 'id': 8, 'title': 'quo adipisci enim quam ut ab', 'completed': True}, {'userId': 1, 'id': 9, 'title': 'molestiae perspiciatis ipsa', 'completed': False}, {'userId': 1, 'id': 10, 'title': 'illo est ratione doloremque quia maiores aut', 'completed': True}, {'userId': 1, 'id': 11, 'title': 'vero rerum temporibus dolor', 'completed': True}, {'userId': 1, 'id': 12, 'title': 'ipsa repellendus fugit nisi', 'completed': True}, {'userId': 1, 'id': 13, 'title': 'et doloremque nulla', 'completed': False}, {'userId': 1, 'id': 14, 'title': 'repellendus sunt dolores architecto voluptatum', 'completed': True}, {'userId': 1, 'id': 15, 'title': 'ab voluptatum amet voluptas', 'completed': True}, {'userId': 1, 'id': 16, 'title': 'accusamus eos facilis sint et aut voluptatem', 'completed': True}, {'userId': 1, 'id': 17, 'title': 'quo laboriosam deleniti aut qui', 'completed': True}, {'userId': 1, 'id': 18, 'title': 'dolorum est consequatur ea mollitia in culpa', 'completed': False}, {'userId': 1, 'id': 19, 'title': 'molestiae ipsa aut voluptatibus pariatur dolor nihil', 'completed': True}, {'userId': 1, 'id': 20, 'title': 'ullam nobis libero sapiente ad optio sint', 'completed': True}, {'userId': 2, 'id': 21, 'title': 'suscipit repellat esse quibusdam voluptatem incidunt', 'completed': False}, {'userId': 2, 'id': 22, 'title': 'distinctio vitae autem nihil ut molestias quo', 'completed': True}, {'userId': 2, 'id': 23, 'title': 'et itaque necessitatibus maxime molestiae qui quas velit', 'completed': False}, {'userId': 2, 'id': 24, 'title': 'adipisci non ad dicta qui amet quaerat doloribus ea', 'completed': False}, {'userId': 2, 'id': 25, 'title': 'voluptas quo tenetur perspiciatis explicabo natus', 'completed': True}, {'userId': 2, 'id': 26, 'title': 'aliquam aut quasi', 'completed': True}, {'userId': 2, 'id': 27, 'title': 'veritatis pariatur delectus', 'completed': True}, {'userId': 2, 'id': 28, 'title': 'nesciunt totam sit blanditiis sit', 'completed': False}, {'userId': 2, 'id': 29, 'title': 'laborum aut in quam', 'completed': False}, {'userId': 2, 'id': 30, 'title': 'nemo perspiciatis repellat ut dolor libero commodi blanditiis omnis', 'completed': True}, {'userId': 2, 'id': 31, 'title': 'repudiandae totam in est sint facere fuga', 'completed': False}, {'userId': 2, 'id': 32, 'title': 'earum doloribus ea doloremque quis', 'completed': False}, {'userId': 2, 'id': 33, 'title': 'sint sit aut vero', 'completed': False}, {'userId': 2, 'id': 34, 'title': 'porro aut necessitatibus eaque distinctio', 'completed': False}, {'userId': 2, 'id': 35, 'title': 'repellendus veritatis molestias dicta incidunt', 'completed': True}, {'userId': 2, 'id': 36, 'title': 'excepturi deleniti adipisci voluptatem et neque optio illum ad', 'completed': True}, {'userId': 2, 'id': 37, 'title': 'sunt cum tempora', 'completed': False}, {'userId': 2, 'id': 38, 'title': 'totam quia non', 'completed': False}, {'userId': 2, 'id': 39, 'title': 'doloremque quibusdam asperiores libero corrupti illum qui omnis', 'completed': False}, {'userId': 2, 'id': 40, 'title': 'totam atque quo nesciunt', 'completed': True}, {'userId': 3, 'id': 41, 'title': 'aliquid amet impedit consequatur aspernatur placeat eaque fugiat suscipit', 'completed': False}, {'userId': 3, 'id': 42, 'title': 'rerum perferendis error quia ut eveniet', 'completed': False}, {'userId': 3, 'id': 43, 'title': 'tempore ut sint quis recusandae', 'completed': True}, {'userId': 3, 'id': 44, 'title': 'cum debitis quis accusamus doloremque ipsa natus sapiente omnis', 'completed': True}, {'userId': 3, 'id': 45, 'title': 'velit soluta adipisci molestias reiciendis harum', 'completed': False}, {'userId': 3, 'id': 46, 'title': 'vel voluptatem repellat nihil placeat corporis', 'completed': False}, {'userId': 3, 'id': 47, 'title': 'nam qui rerum fugiat accusamus', 'completed': False}, {'userId': 3, 'id': 48, 'title': 'sit reprehenderit omnis quia', 'completed': False}, {'userId': 3, 'id': 49, 'title': 'ut necessitatibus aut maiores debitis officia blanditiis velit et', 'completed': False}, {'userId': 3, 'id': 50, 'title': 'cupiditate necessitatibus ullam aut quis dolor voluptate', 'completed': True}, {'userId': 3, 'id': 51, 'title': 'distinctio exercitationem ab doloribus', 'completed': False}, {'userId': 3, 'id': 52, 'title': 'nesciunt dolorum quis recusandae ad pariatur ratione', 'completed': False}, {'userId': 3, 'id': 53, 'title': 'qui labore est occaecati recusandae aliquid quam', 'completed': False}, {'userId': 3, 'id': 54, 'title': 'quis et est ut voluptate quam dolor', 'completed': True}, {'userId': 3, 'id': 55, 'title': 'voluptatum omnis minima qui occaecati provident nulla voluptatem ratione', 'completed': True}, {'userId': 3, 'id': 56, 'title': 'deleniti ea temporibus enim', 'completed': True}, {'userId': 3, 'id': 57, 'title': 'pariatur et magnam ea doloribus similique voluptatem rerum quia', 'completed': False}, {'userId': 3, 'id': 58, 'title': 'est dicta totam qui explicabo doloribus qui dignissimos', 'completed': False}, {'userId': 3, 'id': 59, 'title': 'perspiciatis velit id laborum placeat iusto et aliquam odio', 'completed': False}, {'userId': 3, 'id': 60, 'title': 'et sequi qui architecto ut adipisci', 'completed': True}, {'userId': 4, 'id': 61, 'title': 'odit optio omnis qui sunt', 'completed': True}, {'userId': 4, 'id': 62, 'title': 'et placeat et tempore aspernatur sint numquam', 'completed': False}, {'userId': 4, 'id': 63, 'title': 'doloremque aut dolores quidem fuga qui nulla', 'completed': True}, {'userId': 4, 'id': 64, 'title': 'voluptas consequatur qui ut quia magnam nemo esse', 'completed': False}, {'userId': 4, 'id': 65, 'title': 'fugiat pariatur ratione ut asperiores necessitatibus magni', 'completed': False}, {'userId': 4, 'id': 66, 'title': 'rerum eum molestias autem voluptatum sit optio', 'completed': False}, {'userId': 4, 'id': 67, 'title': 'quia voluptatibus voluptatem quos similique maiores repellat', 'completed': False}, {'userId': 4, 'id': 68, 'title': 'aut id perspiciatis voluptatem iusto', 'completed': False}, {'userId': 4, 'id': 69, 'title': 'doloribus sint dolorum ab adipisci itaque dignissimos aliquam suscipit', 'completed': False}, {'userId': 4, 'id': 70, 'title': 'ut sequi accusantium et mollitia delectus sunt', 'completed': False}, {'userId': 4, 'id': 71, 'title': 'aut velit saepe ullam', 'completed': False}, {'userId': 4, 'id': 72, 'title': 'praesentium facilis facere quis harum voluptatibus voluptatem eum', 'completed': False}, {'userId': 4, 'id': 73, 'title': 'sint amet quia totam corporis qui exercitationem commodi', 'completed': True}, {'userId': 4, 'id': 74, 'title': 'expedita tempore nobis eveniet laborum maiores', 'completed': False}, {'userId': 4, 'id': 75, 'title': 'occaecati adipisci est possimus totam', 'completed': False}, {'userId': 4, 'id': 76, 'title': 'sequi dolorem sed', 'completed': True}, {'userId': 4, 'id': 77, 'title': 'maiores aut nesciunt delectus exercitationem vel assumenda eligendi at', 'completed': False}, {'userId': 4, 'id': 78, 'title': 'reiciendis est magnam amet nemo iste recusandae impedit quaerat', 'completed': False}, {'userId': 4, 'id': 79, 'title': 'eum ipsa maxime ut', 'completed': True}, {'userId': 4, 'id': 80, 'title': 'tempore molestias dolores rerum sequi voluptates ipsum consequatur', 'completed': True}, {'userId': 5, 'id': 81, 'title': 'suscipit qui totam', 'completed': True}, {'userId': 5, 'id': 82, 'title': 'voluptates eum voluptas et dicta', 'completed': False}, {'userId': 5, 'id': 83, 'title': 'quidem at rerum quis ex aut sit quam', 'completed': True}, {'userId': 5, 'id': 84, 'title': 'sunt veritatis ut voluptate', 'completed': False}, {'userId': 5, 'id': 85, 'title': 'et quia ad iste a', 'completed': True}, {'userId': 5, 'id': 86, 'title': 'incidunt ut saepe autem', 'completed': True}, {'userId': 5, 'id': 87, 'title': 'laudantium quae eligendi consequatur quia et vero autem', 'completed': True}, {'userId': 5, 'id': 88, 'title': 'vitae aut excepturi laboriosam sint aliquam et et accusantium', 'completed': False}, {'userId': 5, 'id': 89, 'title': 'sequi ut omnis et', 'completed': True}, {'userId': 5, 'id': 90, 'title': 'molestiae nisi accusantium tenetur dolorem et', 'completed': True}, {'userId': 5, 'id': 91, 'title': 'nulla quis consequatur saepe qui id expedita', 'completed': True}, {'userId': 5, 'id': 92, 'title': 'in omnis laboriosam', 'completed': True}, {'userId': 5, 'id': 93, 'title': 'odio iure consequatur molestiae quibusdam necessitatibus quia sint', 'completed': True}, {'userId': 5, 'id': 94, 'title': 'facilis modi saepe mollitia', 'completed': False}, {'userId': 5, 'id': 95, 'title': 'vel nihil et molestiae iusto assumenda nemo quo ut', 'completed': True}, {'userId': 5, 'id': 96, 'title': 'nobis suscipit ducimus enim asperiores voluptas', 'completed': False}, {'userId': 5, 'id': 97, 'title': 'dolorum laboriosam eos qui iure aliquam', 'completed': False}, {'userId': 5, 'id': 98, 'title': 'debitis accusantium ut quo facilis nihil quis sapiente necessitatibus', 'completed': True}, {'userId': 5, 'id': 99, 'title': 'neque voluptates ratione', 'completed': False}, {'userId': 5, 'id': 100, 'title': 'excepturi a et neque qui expedita vel voluptate', 'completed': False}, {'userId': 6, 'id': 101, 'title': 'explicabo enim cumque porro aperiam occaecati minima', 'completed': False}, {'userId': 6, 'id': 102, 'title': 'sed ab consequatur', 'completed': False}, {'userId': 6, 'id': 103, 'title': 'non sunt delectus illo nulla tenetur enim omnis', 'completed': False}, {'userId': 6, 'id': 104, 'title': 'excepturi non laudantium quo', 'completed': False}, {'userId': 6, 'id': 105, 'title': 'totam quia dolorem et illum repellat voluptas optio', 'completed': True}, {'userId': 6, 'id': 106, 'title': 'ad illo quis voluptatem temporibus', 'completed': True}, {'userId': 6, 'id': 107, 'title': 'praesentium facilis omnis laudantium fugit ad iusto nihil nesciunt', 'completed': False}, {'userId': 6, 'id': 108, 'title': 'a eos eaque nihil et exercitationem incidunt delectus', 'completed': True}, {'userId': 6, 'id': 109, 'title': 'autem temporibus harum quisquam in culpa', 'completed': True}, {'userId': 6, 'id': 110, 'title': 'aut aut ea corporis', 'completed': True}, {'userId': 6, 'id': 111, 'title': 'magni accusantium labore et id quis provident', 'completed': False}, {'userId': 6, 'id': 112, 'title': 'consectetur impedit quisquam qui deserunt non rerum consequuntur eius', 'completed': False}, {'userId': 6, 'id': 113, 'title': 'quia atque aliquam sunt impedit voluptatum rerum assumenda nisi', 'completed': False}, {'userId': 6, 'id': 114, 'title': 'cupiditate quos possimus corporis quisquam exercitationem beatae', 'completed': False}, {'userId': 6, 'id': 115, 'title': 'sed et ea eum', 'completed': False}, {'userId': 6, 'id': 116, 'title': 'ipsa dolores vel facilis ut', 'completed': True}, {'userId': 6, 'id': 117, 'title': 'sequi quae est et qui qui eveniet asperiores', 'completed': False}, {'userId': 6, 'id': 118, 'title': 'quia modi consequatur vero fugiat', 'completed': False}, {'userId': 6, 'id': 119, 'title': 'corporis ducimus ea perspiciatis iste', 'completed': False}, {'userId': 6, 'id': 120, 'title': 'dolorem laboriosam vel voluptas et aliquam quasi', 'completed': False}, {'userId': 7, 'id': 121, 'title': 'inventore aut nihil minima laudantium hic qui omnis', 'completed': True}, {'userId': 7, 'id': 122, 'title': 'provident aut nobis culpa', 'completed': True}, {'userId': 7, 'id': 123, 'title': 'esse et quis iste est earum aut impedit', 'completed': False}, {'userId': 7, 'id': 124, 'title': 'qui consectetur id', 'completed': False}, {'userId': 7, 'id': 125, 'title': 'aut quasi autem iste tempore illum possimus', 'completed': False}, {'userId': 7, 'id': 126, 'title': 'ut asperiores perspiciatis veniam ipsum rerum saepe', 'completed': True}, {'userId': 7, 'id': 127, 'title': 'voluptatem libero consectetur rerum ut', 'completed': True}, {'userId': 7, 'id': 128, 'title': 'eius omnis est qui voluptatem autem', 'completed': False}, {'userId': 7, 'id': 129, 'title': 'rerum culpa quis harum', 'completed': False}, {'userId': 7, 'id': 130, 'title': 'nulla aliquid eveniet harum laborum libero alias ut unde', 'completed': True}, {'userId': 7, 'id': 131, 'title': 'qui ea incidunt quis', 'completed': False}, {'userId': 7, 'id': 132, 'title': 'qui molestiae voluptatibus velit iure harum quisquam', 'completed': True}, {'userId': 7, 'id': 133, 'title': 'et labore eos enim rerum consequatur sunt', 'completed': True}, {'userId': 7, 'id': 134, 'title': 'molestiae doloribus et laborum quod ea', 'completed': False}, {'userId': 7, 'id': 135, 'title': 'facere ipsa nam eum voluptates reiciendis vero qui', 'completed': False}, {'userId': 7, 'id': 136, 'title': 'asperiores illo tempora fuga sed ut quasi adipisci', 'completed': False}, {'userId': 7, 'id': 137, 'title': 'qui sit non', 'completed': False}, {'userId': 7, 'id': 138, 'title': 'placeat minima consequatur rem qui ut', 'completed': True}, {'userId': 7, 'id': 139, 'title': 'consequatur doloribus id possimus voluptas a voluptatem', 'completed': False}, {'userId': 7, 'id': 140, 'title': 'aut consectetur in blanditiis deserunt quia sed laboriosam', 'completed': True}, {'userId': 8, 'id': 141, 'title': 'explicabo consectetur debitis voluptates quas quae culpa rerum non', 'completed': True}, {'userId': 8, 'id': 142, 'title': 'maiores accusantium architecto necessitatibus reiciendis ea aut', 'completed': True}, {'userId': 8, 'id': 143, 'title': 'eum non recusandae cupiditate animi', 'completed': False}, {'userId': 8, 'id': 144, 'title': 'ut eum exercitationem sint', 'completed': False}, {'userId': 8, 'id': 145, 'title': 'beatae qui ullam incidunt voluptatem non nisi aliquam', 'completed': False}, {'userId': 8, 'id': 146, 'title': 'molestiae suscipit ratione nihil odio libero impedit vero totam', 'completed': True}, {'userId': 8, 'id': 147, 'title': 'eum itaque quod reprehenderit et facilis dolor autem ut', 'completed': True}, {'userId': 8, 'id': 148, 'title': 'esse quas et quo quasi exercitationem', 'completed': False}, {'userId': 8, 'id': 149, 'title': 'animi voluptas quod perferendis est', 'completed': False}, {'userId': 8, 'id': 150, 'title': 'eos amet tempore laudantium fugit a', 'completed': False}, {'userId': 8, 'id': 151, 'title': 'accusamus adipisci dicta qui quo ea explicabo sed vero', 'completed': True}, {'userId': 8, 'id': 152, 'title': 'odit eligendi recusandae doloremque cumque non', 'completed': False}, {'userId': 8, 'id': 153, 'title': 'ea aperiam consequatur qui repellat eos', 'completed': False}, {'userId': 8, 'id': 154, 'title': 'rerum non ex sapiente', 'completed': True}, {'userId': 8, 'id': 155, 'title': 'voluptatem nobis consequatur et assumenda magnam', 'completed': True}, {'userId': 8, 'id': 156, 'title': 'nam quia quia nulla repellat assumenda quibusdam sit nobis', 'completed': True}, {'userId': 8, 'id': 157, 'title': 'dolorem veniam quisquam deserunt repellendus', 'completed': True}, {'userId': 8, 'id': 158, 'title': 'debitis vitae delectus et harum accusamus aut deleniti a', 'completed': True}, {'userId': 8, 'id': 159, 'title': 'debitis adipisci quibusdam aliquam sed dolore ea praesentium nobis', 'completed': True}, {'userId': 8, 'id': 160, 'title': 'et praesentium aliquam est', 'completed': False}, {'userId': 9, 'id': 161, 'title': 'ex hic consequuntur earum omnis alias ut occaecati culpa', 'completed': True}, {'userId': 9, 'id': 162, 'title': 'omnis laboriosam molestias animi sunt dolore', 'completed': True}, {'userId': 9, 'id': 163, 'title': 'natus corrupti maxime laudantium et voluptatem laboriosam odit', 'completed': False}, {'userId': 9, 'id': 164, 'title': 'reprehenderit quos aut aut consequatur est sed', 'completed': False}, {'userId': 9, 'id': 165, 'title': 'fugiat perferendis sed aut quidem', 'completed': False}, {'userId': 9, 'id': 166, 'title': 'quos quo possimus suscipit minima ut', 'completed': False}, {'userId': 9, 'id': 167, 'title': 'et quis minus quo a asperiores molestiae', 'completed': False}, {'userId': 9, 'id': 168, 'title': 'recusandae quia qui sunt libero', 'completed': False}, {'userId': 9, 'id': 169, 'title': 'ea odio perferendis officiis', 'completed': True}, {'userId': 9, 'id': 170, 'title': 'quisquam aliquam quia doloribus aut', 'completed': False}, {'userId': 9, 'id': 171, 'title': 'fugiat aut voluptatibus corrupti deleniti velit iste odio', 'completed': True}, {'userId': 9, 'id': 172, 'title': 'et provident amet rerum consectetur et voluptatum', 'completed': False}, {'userId': 9, 'id': 173, 'title': 'harum ad aperiam quis', 'completed': False}, {'userId': 9, 'id': 174, 'title': 'similique aut quo', 'completed': False}, {'userId': 9, 'id': 175, 'title': 'laudantium eius officia perferendis provident perspiciatis asperiores', 'completed': True}, {'userId': 9, 'id': 176, 'title': 'magni soluta corrupti ut maiores rem quidem', 'completed': False}, {'userId': 9, 'id': 177, 'title': 'et placeat temporibus voluptas est tempora quos quibusdam', 'completed': False}, {'userId': 9, 'id': 178, 'title': 'nesciunt itaque commodi tempore', 'completed': True}, {'userId': 9, 'id': 179, 'title': 'omnis consequuntur cupiditate impedit itaque ipsam quo', 'completed': True}, {'userId': 9, 'id': 180, 'title': 'debitis nisi et dolorem repellat et', 'completed': True}, {'userId': 10, 'id': 181, 'title': 'ut cupiditate sequi aliquam fuga maiores', 'completed': False}, {'userId': 10, 'id': 182, 'title': 'inventore saepe cumque et aut illum enim', 'completed': True}, {'userId': 10, 'id': 183, 'title': 'omnis nulla eum aliquam distinctio', 'completed': True}, {'userId': 10, 'id': 184, 'title': 'molestias modi perferendis perspiciatis', 'completed': False}, {'userId': 10, 'id': 185, 'title': 'voluptates dignissimos sed doloribus animi quaerat aut', 'completed': False}, {'userId': 10, 'id': 186, 'title': 'explicabo odio est et', 'completed': False}, {'userId': 10, 'id': 187, 'title': 'consequuntur animi possimus', 'completed': False}, {'userId': 10, 'id': 188, 'title': 'vel non beatae est', 'completed': True}, {'userId': 10, 'id': 189, 'title': 'culpa eius et voluptatem et', 'completed': True}, {'userId': 10, 'id': 190, 'title': 'accusamus sint iusto et voluptatem exercitationem', 'completed': True}, {'userId': 10, 'id': 191, 'title': 'temporibus atque distinctio omnis eius impedit tempore molestias pariatur', 'completed': True}, {'userId': 10, 'id': 192, 'title': 'ut quas possimus exercitationem sint voluptates', 'completed': False}, {'userId': 10, 'id': 193, 'title': 'rerum debitis voluptatem qui eveniet tempora distinctio a', 'completed': True}, {'userId': 10, 'id': 194, 'title': 'sed ut vero sit molestiae', 'completed': False}, {'userId': 10, 'id': 195, 'title': 'rerum ex veniam mollitia voluptatibus pariatur', 'completed': True}, {'userId': 10, 'id': 196, 'title': 'consequuntur aut ut fugit similique', 'completed': True}, {'userId': 10, 'id': 197, 'title': 'dignissimos quo nobis earum saepe', 'completed': True}, {'userId': 10, 'id': 198, 'title': 'quis eius est sint explicabo', 'completed': True}, {'userId': 10, 'id': 199, 'title': 'numquam repellendus a magnam', 'completed': True}, {'userId': 10, 'id': 200, 'title': 'ipsam aperiam voluptates qui', 'completed': False}]\n"
     ]
    }
   ],
   "source": [
    "# Fetch data dari API\n",
    "r = requests.get(\"https://jsonplaceholder.typicode.com/todos\")\n",
    "res = r.json()\n",
    "\n",
    "# Cetak hasil fetch data dari API\n",
    "print(res)"
   ]
  },
  {
   "cell_type": "markdown",
   "metadata": {},
   "source": [
    "Setelah mendapatkan data JSON, kita dapat mengekstrak informasi spesifik dari struktur data tersebut, seperti kutipan dan penulis:"
   ]
  },
  {
   "cell_type": "code",
   "execution_count": 64,
   "metadata": {},
   "outputs": [
    {
     "data": {
      "text/plain": [
       "'delectus aut autem'"
      ]
     },
     "execution_count": 64,
     "metadata": {},
     "output_type": "execute_result"
    }
   ],
   "source": [
    "# Mengekstrak kutipan dari data JSON\n",
    "q = res[0]['title']\n",
    "q\n",
    "# Menampilkan kutipan dan penulis\n",
    "# print(q['quote'], '\\n--', q['author'])"
   ]
  },
  {
   "cell_type": "markdown",
   "metadata": {},
   "source": [
    "Program ini akan mengeluarkan output seperti berikut:"
   ]
  },
  {
   "cell_type": "markdown",
   "metadata": {},
   "source": [
    "# Output\n",
    "```\n",
    "It wasn't raining when Noah built the ark....\n",
    "-- Howard Ruff\n",
    "```"
   ]
  },
  {
   "cell_type": "markdown",
   "metadata": {},
   "source": [
    "Penjelasan:\n",
    "- Kita mengambil data dari URL JSON menggunakan requests.get().\n",
    "- Setelah itu, data yang diterima dikonversi menjadi format JSON dengan r.json().\n",
    "- Kemudian, data kutipan dan penulis diambil dari objek JSON dan ditampilkan."
   ]
  }
 ],
 "metadata": {
  "kernelspec": {
   "display_name": "usr",
   "language": "python",
   "name": "python3"
  },
  "language_info": {
   "codemirror_mode": {
    "name": "ipython",
    "version": 3
   },
   "file_extension": ".py",
   "mimetype": "text/x-python",
   "name": "python",
   "nbconvert_exporter": "python",
   "pygments_lexer": "ipython3",
   "version": "3.13.0"
  }
 },
 "nbformat": 4,
 "nbformat_minor": 2
}
